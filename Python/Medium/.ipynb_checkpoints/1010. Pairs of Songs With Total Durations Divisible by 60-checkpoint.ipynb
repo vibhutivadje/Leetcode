{
 "cells": [
  {
   "cell_type": "markdown",
   "metadata": {},
   "source": [
    "# Problem"
   ]
  },
  {
   "cell_type": "markdown",
   "metadata": {},
   "source": [
    "You are given a list of songs where the ith song has a duration of time[i] seconds.\n",
    "\n",
    "Return the number of pairs of songs for which their total duration in seconds is divisible by 60. Formally, we want the number of indices i, j such that i < j with (time[i] + time[j]) % 60 == 0."
   ]
  },
  {
   "cell_type": "markdown",
   "metadata": {},
   "source": [
    "<b>Example 1:</b><br>\n",
    "\n",
    "Input: time = [30,20,150,100,40]<br>\n",
    "Output: 3<br>\n",
    "Explanation: Three pairs have a total duration divisible by 60:<br>\n",
    "(time[0] = 30, time[2] = 150): total duration 180<br>\n",
    "(time[1] = 20, time[3] = 100): total duration 120<br>\n",
    "(time[1] = 20, time[4] = 40): total duration 60<br>"
   ]
  },
  {
   "cell_type": "markdown",
   "metadata": {},
   "source": [
    "# Solution 1:"
   ]
  },
  {
   "cell_type": "code",
   "execution_count": 3,
   "metadata": {},
   "outputs": [
    {
     "data": {
      "text/plain": [
       "3"
      ]
     },
     "execution_count": 3,
     "metadata": {},
     "output_type": "execute_result"
    }
   ],
   "source": [
    "def numPairsDivisibleBy60(time):\n",
    "\n",
    "    res = 0\n",
    "    for i in range(len(time)):\n",
    "        for j in range(i+1, len(time)):\n",
    "            if (time[i]+time[j])%60==0:\n",
    "                res+=1\n",
    "    return res\n",
    "\n",
    "\n",
    "numPairsDivisibleBy60(time = [30,20,150,100,40])\n",
    "\n",
    "#time complexity: O(n-square)\n",
    "#space compelxity: O(1)"
   ]
  },
  {
   "cell_type": "code",
   "execution_count": null,
   "metadata": {},
   "outputs": [],
   "source": []
  }
 ],
 "metadata": {
  "kernelspec": {
   "display_name": "Python 3",
   "language": "python",
   "name": "python3"
  },
  "language_info": {
   "codemirror_mode": {
    "name": "ipython",
    "version": 3
   },
   "file_extension": ".py",
   "mimetype": "text/x-python",
   "name": "python",
   "nbconvert_exporter": "python",
   "pygments_lexer": "ipython3",
   "version": "3.7.7"
  }
 },
 "nbformat": 4,
 "nbformat_minor": 4
}
