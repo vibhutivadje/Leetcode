{
 "cells": [
  {
   "cell_type": "markdown",
   "metadata": {},
   "source": [
    "# Problem:"
   ]
  },
  {
   "cell_type": "markdown",
   "metadata": {},
   "source": [
    "https://leetcode.com/problems/top-k-frequent-words/"
   ]
  },
  {
   "cell_type": "markdown",
   "metadata": {},
   "source": [
    "Given a non-empty list of words, return the k most frequent elements.\n",
    "\n",
    "Your answer should be sorted by frequency from highest to lowest. If two words have the same frequency, then the word with the lower alphabetical order comes first."
   ]
  },
  {
   "cell_type": "markdown",
   "metadata": {},
   "source": [
    "# Example 1: <br>\n",
    "Input: [\"i\", \"love\", \"leetcode\", \"i\", \"love\", \"coding\"], k = 2<br>\n",
    "Output: [\"i\", \"love\"]<br>\n",
    "Explanation: \"i\" and \"love\" are the two most frequent words.<br>\n",
    "    Note that \"i\" comes before \"love\" due to a lower alphabetical order.<br>"
   ]
  },
  {
   "cell_type": "code",
   "execution_count": 11,
   "metadata": {},
   "outputs": [
    {
     "name": "stdout",
     "output_type": "stream",
     "text": [
      "i 2\n",
      "love 2\n",
      "leetcode 1\n",
      "coding 1\n"
     ]
    },
    {
     "data": {
      "text/plain": [
       "['i', 'love']"
      ]
     },
     "execution_count": 11,
     "metadata": {},
     "output_type": "execute_result"
    }
   ],
   "source": [
    "def topKFrequent(ls, k):\n",
    "    d = {}\n",
    "    res = []\n",
    "\n",
    "    for i in ls:\n",
    "        if i not in d:\n",
    "            d[i] = 1\n",
    "        else:\n",
    "            d[i] += 1\n",
    "\n",
    "    for key, value in d.items():\n",
    "        print(key, value)\n",
    "        if value == k :\n",
    "            res.append(key)\n",
    "\n",
    "    return res\n",
    "\n",
    "ls = [\"i\", \"love\", \"leetcode\", \"i\", \"love\", \"coding\"]\n",
    "topKFrequent(ls, k=2)\n",
    "\n"
   ]
  },
  {
   "cell_type": "code",
   "execution_count": null,
   "metadata": {},
   "outputs": [],
   "source": []
  },
  {
   "cell_type": "code",
   "execution_count": null,
   "metadata": {},
   "outputs": [],
   "source": []
  }
 ],
 "metadata": {
  "kernelspec": {
   "display_name": "Python 3",
   "language": "python",
   "name": "python3"
  },
  "language_info": {
   "codemirror_mode": {
    "name": "ipython",
    "version": 3
   },
   "file_extension": ".py",
   "mimetype": "text/x-python",
   "name": "python",
   "nbconvert_exporter": "python",
   "pygments_lexer": "ipython3",
   "version": "3.7.7"
  }
 },
 "nbformat": 4,
 "nbformat_minor": 4
}
