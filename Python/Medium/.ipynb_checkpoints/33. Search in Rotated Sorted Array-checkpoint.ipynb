{
 "cells": [
  {
   "cell_type": "markdown",
   "metadata": {},
   "source": [
    "# Problem:"
   ]
  },
  {
   "cell_type": "markdown",
   "metadata": {},
   "source": [
    "https://leetcode.com/problems/search-in-rotated-sorted-array/"
   ]
  },
  {
   "cell_type": "markdown",
   "metadata": {},
   "source": [
    "There is an integer array nums sorted in ascending order (with distinct values).\n",
    "\n",
    "Prior to being passed to your function, nums is rotated at an unknown pivot index k (0 <= k < nums.length) such that the resulting array is [nums[k], nums[k+1], ..., nums[n-1], nums[0], nums[1], ..., nums[k-1]] (0-indexed). For example, [0,1,2,4,5,6,7] might be rotated at pivot index 3 and become [4,5,6,7,0,1,2].\n",
    "\n",
    "Given the array nums after the rotation and an integer target, return the index of target if it is in nums, or -1 if it is not in nums.\n",
    "\n",
    "You must write an algorithm with O(log n) runtime complexity.\n",
    "\n"
   ]
  },
  {
   "cell_type": "markdown",
   "metadata": {},
   "source": [
    "Example 1:<br>\n",
    "\n",
    "Input: nums = [4,5,6,7,0,1,2], target = 0<br>\n",
    "Output: 4<br>"
   ]
  },
  {
   "cell_type": "markdown",
   "metadata": {},
   "source": [
    "Example 2:<br>\n",
    "\n",
    "Input: nums = [4,5,6,7,0,1,2], target = 3<br>\n",
    "Output: -1<br>"
   ]
  },
  {
   "cell_type": "markdown",
   "metadata": {},
   "source": [
    "Example 3:<br>\n",
    "\n",
    "Input: nums = [1], target = 0<br>\n",
    "Output: -1<br>"
   ]
  },
  {
   "cell_type": "markdown",
   "metadata": {},
   "source": [
    "# Solution1:"
   ]
  },
  {
   "cell_type": "markdown",
   "metadata": {},
   "source": [
    "#Hints: Create a story. Make use of \"rotated Sorted Array\". That means half part of the array is sorted and we can use binary search"
   ]
  },
  {
   "cell_type": "code",
   "execution_count": 9,
   "metadata": {},
   "outputs": [
    {
     "data": {
      "text/plain": [
       "-1"
      ]
     },
     "execution_count": 9,
     "metadata": {},
     "output_type": "execute_result"
    }
   ],
   "source": [
    "def search(nums, target):\n",
    "    \n",
    "    #get two pointers to traverse through the array\n",
    "    left = 0\n",
    "    right = len(nums)-1\n",
    "    \n",
    "    #base condition\n",
    "    if not nums:\n",
    "        return -1\n",
    "    \n",
    "    while(left<=right):\n",
    "        #calculate mid\n",
    "        \n",
    "        mid = int(left + (right - left)/2)\n",
    "        \n",
    "        #bingo we found the element\n",
    "        if(nums[mid]==target):\n",
    "            return mid\n",
    "        \n",
    "        #check if left side of the array is sorted:\n",
    "        if(nums[left]<nums[mid]):\n",
    "            #check if the target element lies in the left sorted array \n",
    "            if(target>=nums[left] and target < nums[mid]):\n",
    "                right = mid -1\n",
    "            else:\n",
    "                left = mid +1\n",
    "            \n",
    "        else:\n",
    "        #check if left side of the array is sorted:\n",
    "        #check if the target element lies in the left sorted array \n",
    "            if(target > nums[mid] and target<= nums[right]):\n",
    "                left = mid +1\n",
    "            else:\n",
    "                right = mid -1\n",
    "    return -1    \n",
    "    \n",
    "#search(nums = [4,5,6,7,0,1,2], target = 0)\n",
    "#search(nums = [4,5,6,7,0,1,2], target = 3)\n",
    "search(nums = [1], target = 0)\n",
    "#Time complexity: O(log n)\n",
    "#Space complexity: O(1)"
   ]
  },
  {
   "cell_type": "markdown",
   "metadata": {},
   "source": [
    "# Solution2: Brute force"
   ]
  },
  {
   "cell_type": "code",
   "execution_count": 10,
   "metadata": {},
   "outputs": [
    {
     "data": {
      "text/plain": [
       "4"
      ]
     },
     "execution_count": 10,
     "metadata": {},
     "output_type": "execute_result"
    }
   ],
   "source": [
    "def search(nums, target):\n",
    "    \n",
    "    for i in range(len(nums)):\n",
    "        if nums[i]==target:\n",
    "            return i\n",
    "        else:\n",
    "            return -1\n",
    "\n",
    "search(nums = [4,5,6,7,0,1,2], target = 0)"
   ]
  },
  {
   "cell_type": "code",
   "execution_count": null,
   "metadata": {},
   "outputs": [],
   "source": []
  }
 ],
 "metadata": {
  "kernelspec": {
   "display_name": "Python 3",
   "language": "python",
   "name": "python3"
  },
  "language_info": {
   "codemirror_mode": {
    "name": "ipython",
    "version": 3
   },
   "file_extension": ".py",
   "mimetype": "text/x-python",
   "name": "python",
   "nbconvert_exporter": "python",
   "pygments_lexer": "ipython3",
   "version": "3.7.7"
  }
 },
 "nbformat": 4,
 "nbformat_minor": 4
}
