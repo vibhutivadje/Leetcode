{
 "cells": [
  {
   "cell_type": "markdown",
   "metadata": {},
   "source": [
    "# Problem"
   ]
  },
  {
   "cell_type": "markdown",
   "metadata": {},
   "source": [
    "https://leetcode.com/problems/happy-number/"
   ]
  },
  {
   "cell_type": "markdown",
   "metadata": {},
   "source": [
    "Write an algorithm to determine if a number n is happy.\n",
    "\n",
    "A happy number is a number defined by the following process:\n",
    "\n",
    "Starting with any positive integer, replace the number by the sum of the squares of its digits.\n",
    "Repeat the process until the number equals 1 (where it will stay), or it loops endlessly in a cycle which does not include 1.\n",
    "Those numbers for which this process ends in 1 are happy.\n",
    "Return true if n is a happy number, and false if not."
   ]
  },
  {
   "cell_type": "markdown",
   "metadata": {},
   "source": [
    "Example 1:"
   ]
  },
  {
   "cell_type": "markdown",
   "metadata": {},
   "source": [
    "Input: n = 19<br>\n",
    "Output: true<br>\n",
    "Explanation:<br>\n",
    "12 + 92 = 82<br>\n",
    "82 + 22 = 68<br>\n",
    "62 + 82 = 100<br>\n",
    "12 + 02 + 02 = 1<br>"
   ]
  },
  {
   "cell_type": "markdown",
   "metadata": {},
   "source": [
    "Example 2:<br>\n",
    "\n",
    "Input: n = 2<br>\n",
    "Output: false<br>"
   ]
  },
  {
   "cell_type": "markdown",
   "metadata": {},
   "source": [
    "Good Explanation:\n",
    "https://www.youtube.com/watch?v=c8J9SLaoSMU"
   ]
  },
  {
   "cell_type": "markdown",
   "metadata": {},
   "source": [
    "# Solution1:"
   ]
  },
  {
   "cell_type": "code",
   "execution_count": 19,
   "metadata": {},
   "outputs": [
    {
     "data": {
      "text/plain": [
       "False"
      ]
     },
     "execution_count": 19,
     "metadata": {},
     "output_type": "execute_result"
    }
   ],
   "source": [
    "def isHappy(n):\n",
    "       \n",
    "    seen = set()\n",
    "    while n!=1:\n",
    "        n = sum([int(i)**2 for i in str(n)]) #calculates the square\n",
    "#         print(n)\n",
    "        if n in seen: #part to check if solution went into infinite loop\n",
    "            return False\n",
    "        else:\n",
    "            seen.add(n)\n",
    "            \n",
    "    return True\n",
    "# isHappy(n = 19)\n",
    "isHappy(n = 2)"
   ]
  },
  {
   "cell_type": "markdown",
   "metadata": {},
   "source": [
    "# Solution2:"
   ]
  },
  {
   "cell_type": "code",
   "execution_count": 20,
   "metadata": {},
   "outputs": [
    {
     "data": {
      "text/plain": [
       "True"
      ]
     },
     "execution_count": 20,
     "metadata": {},
     "output_type": "execute_result"
    }
   ],
   "source": [
    "def isHappy(n):\n",
    "    \n",
    "    #calculate sum of squares of n\n",
    "    def num_sq(n):\n",
    "        \n",
    "        res = 0\n",
    "        while n!=0:\n",
    "            d = n%10\n",
    "            res = res + d**2\n",
    "            n = n//10\n",
    "        return res\n",
    "    \n",
    "    seen = set()\n",
    "    while num_sq(n) not in seen:\n",
    "        sum1 = num_sq(n)\n",
    "        if sum1 ==1:\n",
    "            return True\n",
    "        else:\n",
    "            seen.add(sum1)\n",
    "            n = sum1\n",
    "    return False\n",
    "    \n",
    "isHappy(n = 19)\n",
    "#Time complexity: O(1)\n",
    "#Space complexity: O(n)"
   ]
  },
  {
   "cell_type": "code",
   "execution_count": 24,
   "metadata": {},
   "outputs": [
    {
     "data": {
      "text/plain": [
       "-321"
      ]
     },
     "execution_count": 24,
     "metadata": {},
     "output_type": "execute_result"
    }
   ],
   "source": [
    "#reverse integer\n",
    "def revinteger(n):\n",
    "    \n",
    "    neg = False\n",
    "    rev = 0\n",
    "    \n",
    "    if n < 0:\n",
    "        neg = True\n",
    "        n = n * (-1)\n",
    "        \n",
    "    \n",
    "    while n!=0:\n",
    "        rev = rev*10 + n%10\n",
    "        n = n//10\n",
    "        \n",
    "    if neg:\n",
    "        rev = rev *(-1)\n",
    "        \n",
    "    return rev\n",
    "    \n",
    "    \n",
    "revinteger(n = -123)"
   ]
  },
  {
   "cell_type": "code",
   "execution_count": null,
   "metadata": {},
   "outputs": [],
   "source": []
  }
 ],
 "metadata": {
  "kernelspec": {
   "display_name": "Python 3",
   "language": "python",
   "name": "python3"
  },
  "language_info": {
   "codemirror_mode": {
    "name": "ipython",
    "version": 3
   },
   "file_extension": ".py",
   "mimetype": "text/x-python",
   "name": "python",
   "nbconvert_exporter": "python",
   "pygments_lexer": "ipython3",
   "version": "3.7.7"
  }
 },
 "nbformat": 4,
 "nbformat_minor": 4
}
