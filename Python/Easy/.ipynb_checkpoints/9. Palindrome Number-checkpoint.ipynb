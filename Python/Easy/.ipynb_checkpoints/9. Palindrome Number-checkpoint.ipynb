{
 "cells": [
  {
   "cell_type": "markdown",
   "metadata": {},
   "source": [
    "# Problem"
   ]
  },
  {
   "cell_type": "markdown",
   "metadata": {},
   "source": [
    "Given an integer x, return true if x is palindrome integer.\n",
    "\n",
    "An integer is a palindrome when it reads the same backward as forward. For example, 121 is palindrome while 123 is not."
   ]
  },
  {
   "cell_type": "markdown",
   "metadata": {},
   "source": [
    "<br>Example 1:</br>\n",
    "<br>Input: x = 121</br>\n",
    "<br>Output: true<br>"
   ]
  },
  {
   "cell_type": "markdown",
   "metadata": {},
   "source": [
    "<br>Example 2:</br>\n",
    "<br>Input: x = -121</br>\n",
    "<br>Output: false</br>\n",
    "<br>Explanation: From left to right, it reads -121. From right to left, it becomes 121-. \n",
    "    Therefore it is not a palindrome.</br>"
   ]
  },
  {
   "cell_type": "markdown",
   "metadata": {},
   "source": [
    "# Solution 1:"
   ]
  },
  {
   "cell_type": "code",
   "execution_count": 11,
   "metadata": {},
   "outputs": [
    {
     "data": {
      "text/plain": [
       "False"
      ]
     },
     "execution_count": 11,
     "metadata": {},
     "output_type": "execute_result"
    }
   ],
   "source": [
    "def isPalindrome(x):\n",
    "        \n",
    "    if x < 0:\n",
    "        return False\n",
    "    \n",
    "    def revinteger(x):\n",
    "        rev = 0\n",
    "        while x!=0:\n",
    "            rev = rev*10+ x%10\n",
    "            x = x//10\n",
    "        print(rev)\n",
    "        return rev \n",
    "    \n",
    "    if x == revinteger(x):\n",
    "        return True\n",
    "    else:\n",
    "        return False\n",
    "    \n",
    "# isPalindrome(121)\n",
    "isPalindrome(-121)\n",
    "#time complexity: O(n)\n",
    "#space complexity: O(1)"
   ]
  },
  {
   "cell_type": "code",
   "execution_count": 2,
   "metadata": {},
   "outputs": [
    {
     "data": {
      "text/plain": [
       "12"
      ]
     },
     "execution_count": 2,
     "metadata": {},
     "output_type": "execute_result"
    }
   ],
   "source": [
    "121//10"
   ]
  },
  {
   "cell_type": "code",
   "execution_count": null,
   "metadata": {},
   "outputs": [],
   "source": []
  }
 ],
 "metadata": {
  "kernelspec": {
   "display_name": "Python 3",
   "language": "python",
   "name": "python3"
  },
  "language_info": {
   "codemirror_mode": {
    "name": "ipython",
    "version": 3
   },
   "file_extension": ".py",
   "mimetype": "text/x-python",
   "name": "python",
   "nbconvert_exporter": "python",
   "pygments_lexer": "ipython3",
   "version": "3.7.7"
  }
 },
 "nbformat": 4,
 "nbformat_minor": 4
}
