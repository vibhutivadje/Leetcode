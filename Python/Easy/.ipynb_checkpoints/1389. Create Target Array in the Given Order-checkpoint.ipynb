{
 "cells": [
  {
   "cell_type": "markdown",
   "metadata": {},
   "source": [
    "# Problem"
   ]
  },
  {
   "cell_type": "markdown",
   "metadata": {},
   "source": [
    "https://leetcode.com/problems/create-target-array-in-the-given-order/"
   ]
  },
  {
   "cell_type": "markdown",
   "metadata": {},
   "source": [
    "Given two arrays of integers nums and index. Your task is to create target array under the following rules:<br>\n",
    "\n",
    "Initially target array is empty.<br>\n",
    "From left to right read nums[i] and index[i], insert at index index[i] the value nums[i] in target array.<br>\n",
    "Repeat the previous step until there are no elements to read in nums and index.<br>\n",
    "Return the target array.<br>\n",
    "\n",
    "It is guaranteed that the insertion operations will be valid.<br>"
   ]
  },
  {
   "cell_type": "code",
   "execution_count": null,
   "metadata": {},
   "outputs": [],
   "source": []
  }
 ],
 "metadata": {
  "kernelspec": {
   "display_name": "Python 3",
   "language": "python",
   "name": "python3"
  },
  "language_info": {
   "codemirror_mode": {
    "name": "ipython",
    "version": 3
   },
   "file_extension": ".py",
   "mimetype": "text/x-python",
   "name": "python",
   "nbconvert_exporter": "python",
   "pygments_lexer": "ipython3",
   "version": "3.7.7"
  }
 },
 "nbformat": 4,
 "nbformat_minor": 4
}
