{
 "cells": [
  {
   "cell_type": "markdown",
   "metadata": {},
   "source": [
    "# Problem"
   ]
  },
  {
   "cell_type": "markdown",
   "metadata": {},
   "source": [
    "https://leetcode.com/problems/longest-palindrome/"
   ]
  },
  {
   "cell_type": "markdown",
   "metadata": {},
   "source": [
    "Given a string s which consists of lowercase or uppercase letters, return the length of the longest palindrome that can be built with those letters.\n",
    "\n",
    "Letters are case sensitive, for example, \"Aa\" is not considered a palindrome here."
   ]
  },
  {
   "cell_type": "markdown",
   "metadata": {},
   "source": [
    "# Example 1:<br>\n",
    "\n",
    "Input: s = \"abccccdd\"<br>\n",
    "Output: 7<br>\n",
    "Explanation:<br>\n",
    "One longest palindrome that can be built is \"dccaccd\", whose length is 7.<br>"
   ]
  },
  {
   "cell_type": "markdown",
   "metadata": {},
   "source": [
    "# Example 2:<br>\n",
    "\n",
    "Input: s = \"a\"<br>\n",
    "Output: 1<br>"
   ]
  },
  {
   "cell_type": "markdown",
   "metadata": {},
   "source": [
    "# Example 3:<br>\n",
    "\n",
    "Input: s = \"bb\"<br>\n",
    "Output: 2<br>"
   ]
  },
  {
   "cell_type": "markdown",
   "metadata": {},
   "source": [
    "# Solution:1"
   ]
  },
  {
   "cell_type": "code",
   "execution_count": 6,
   "metadata": {},
   "outputs": [
    {
     "data": {
      "text/plain": [
       "7"
      ]
     },
     "execution_count": 6,
     "metadata": {},
     "output_type": "execute_result"
    }
   ],
   "source": [
    "class Solution:\n",
    "    def longestPalindrome(s):\n",
    "        \n",
    "        if s is None or len(s)==0:\n",
    "            return False\n",
    "        \n",
    "        count = 0\n",
    "        hashset = set()\n",
    "        #in set 'a' != 'A' they are treated different\n",
    "        \n",
    "        \n",
    "        for i in range(len(s)):\n",
    "            char = s[i]\n",
    "            \n",
    "            if char in hashset:\n",
    "                hashset.remove(char)\n",
    "                count += 2\n",
    "            else:\n",
    "                hashset.add(char)\n",
    "        \n",
    "        if hashset:\n",
    "            count+=1\n",
    "        \n",
    "        return count\n",
    "        \n",
    "obj = Solution\n",
    "obj.longestPalindrome(s=\"abccccdd\")"
   ]
  },
  {
   "cell_type": "code",
   "execution_count": null,
   "metadata": {},
   "outputs": [],
   "source": []
  }
 ],
 "metadata": {
  "kernelspec": {
   "display_name": "Python 3",
   "language": "python",
   "name": "python3"
  },
  "language_info": {
   "codemirror_mode": {
    "name": "ipython",
    "version": 3
   },
   "file_extension": ".py",
   "mimetype": "text/x-python",
   "name": "python",
   "nbconvert_exporter": "python",
   "pygments_lexer": "ipython3",
   "version": "3.7.7"
  }
 },
 "nbformat": 4,
 "nbformat_minor": 4
}
