{
 "cells": [
  {
   "cell_type": "markdown",
   "metadata": {},
   "source": [
    "<br>Example 1:</br>\n",
    "\n",
    "<br>Input: s = \"Hello World\"</br>\n",
    "<br>Output: 5</br>\n",
    "<br>Explanation: The last word is \"World\" with length 5.</br>"
   ]
  },
  {
   "cell_type": "markdown",
   "metadata": {},
   "source": [
    "# Solution_1:"
   ]
  },
  {
   "cell_type": "code",
   "execution_count": 18,
   "metadata": {},
   "outputs": [
    {
     "data": {
      "text/plain": [
       "5"
      ]
     },
     "execution_count": 18,
     "metadata": {},
     "output_type": "execute_result"
    }
   ],
   "source": [
    "def lastwordlen(strs):\n",
    "    \n",
    "    ss = strs.split(' ')\n",
    "    n_ss = []\n",
    "    for i in ss:\n",
    "        if i!='':\n",
    "            n_ss.append(i)\n",
    "    return len(n_ss[-1])\n",
    "    \n",
    "lastwordlen('Hello World')\n",
    "# lastwordlen('luffy is still joyboy')\n",
    "# lastwordlen(\"   fly me   to   the moon  \")\n",
    "\n",
    "#time complexity: O(N)\n",
    "#space complexity: O(N)"
   ]
  },
  {
   "cell_type": "markdown",
   "metadata": {},
   "source": [
    "# Solution_2:"
   ]
  },
  {
   "cell_type": "code",
   "execution_count": 23,
   "metadata": {},
   "outputs": [
    {
     "data": {
      "text/plain": [
       "5"
      ]
     },
     "execution_count": 23,
     "metadata": {},
     "output_type": "execute_result"
    }
   ],
   "source": [
    "#optimising space complexity\n",
    "\n",
    "def lastwordlen(strs):\n",
    "    \n",
    "    p = len(strs)\n",
    "    length = 0\n",
    "    \n",
    "    while p>0:\n",
    "        p -= 1\n",
    "        \n",
    "        if strs[p]!=' ':\n",
    "            length += 1\n",
    "            \n",
    "        #if it a space and end of last word\n",
    "        elif length>0:\n",
    "            return length \n",
    "     \n",
    "    return length\n",
    "    \n",
    "lastwordlen('Hello World')\n",
    "# lastwordlen('luffy is still joyboy')\n",
    "# lastwordlen(\"   fly me   to   the moon  \")"
   ]
  },
  {
   "cell_type": "code",
   "execution_count": null,
   "metadata": {},
   "outputs": [],
   "source": []
  }
 ],
 "metadata": {
  "kernelspec": {
   "display_name": "Python 3",
   "language": "python",
   "name": "python3"
  },
  "language_info": {
   "codemirror_mode": {
    "name": "ipython",
    "version": 3
   },
   "file_extension": ".py",
   "mimetype": "text/x-python",
   "name": "python",
   "nbconvert_exporter": "python",
   "pygments_lexer": "ipython3",
   "version": "3.7.7"
  }
 },
 "nbformat": 4,
 "nbformat_minor": 4
}
