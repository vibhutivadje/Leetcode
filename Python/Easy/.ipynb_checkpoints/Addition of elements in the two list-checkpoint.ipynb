{
 "cells": [
  {
   "cell_type": "markdown",
   "metadata": {},
   "source": [
    "Given two list:<br>\n",
    "num1 = [1,1,1]<br>\n",
    "num2 = [2,2,2]<br>\n",
    "res = [3,3,3]<br>"
   ]
  },
  {
   "cell_type": "markdown",
   "metadata": {},
   "source": [
    "Example2:<br>\n",
    "num1 = [9,9,9]<br>\n",
    "num2 = [1,3,3]<br>\n",
    "res = [11,3,2]"
   ]
  },
  {
   "cell_type": "markdown",
   "metadata": {},
   "source": [
    "# Solution1:"
   ]
  },
  {
   "cell_type": "code",
   "execution_count": 44,
   "metadata": {},
   "outputs": [
    {
     "name": "stdout",
     "output_type": "stream",
     "text": [
      "*****I,J***** 3 2\n",
      "9 3\n",
      "*****I,J***** 2 1\n",
      "9 3\n",
      "*****I,J***** 1 0\n",
      "9 1\n"
     ]
    },
    {
     "data": {
      "text/plain": [
       "[12, 3, 2]"
      ]
     },
     "execution_count": 44,
     "metadata": {},
     "output_type": "execute_result"
    }
   ],
   "source": [
    "def addtwolists(num1, num2):\n",
    "    \n",
    "    i = len(num1)-1\n",
    "    j = len(num2)-1\n",
    "    carry = 0\n",
    "    res = []\n",
    "    \n",
    "    while i>=0 or j>=0:\n",
    "        print(\"*****I,J*****\",i,j)\n",
    "        print(num1[i],num2[j])\n",
    "        \n",
    "        if i == 0 or j ==0:\n",
    "            res.append (carry + num1[0] + num2[0])\n",
    "            return res[::-1]\n",
    "        \n",
    "        if i>=0: #check if len of arrays is unequal\n",
    "            carry += num1[i]\n",
    "            i-=1\n",
    "        if j>=0:\n",
    "            carry += num2[j]\n",
    "            j-=1\n",
    "        \n",
    "        res.append(carry%10) \n",
    "        carry = carry//10\n",
    "    return res[::-1]\n",
    "    \n",
    "# addtwolists(num1=[1,1,1], num2=[2,2,2])\n",
    "addtwolists(num1=[10,9,9,9], num2=[1,3,3])"
   ]
  },
  {
   "cell_type": "code",
   "execution_count": null,
   "metadata": {},
   "outputs": [],
   "source": []
  }
 ],
 "metadata": {
  "kernelspec": {
   "display_name": "Python 3",
   "language": "python",
   "name": "python3"
  },
  "language_info": {
   "codemirror_mode": {
    "name": "ipython",
    "version": 3
   },
   "file_extension": ".py",
   "mimetype": "text/x-python",
   "name": "python",
   "nbconvert_exporter": "python",
   "pygments_lexer": "ipython3",
   "version": "3.7.7"
  }
 },
 "nbformat": 4,
 "nbformat_minor": 4
}
