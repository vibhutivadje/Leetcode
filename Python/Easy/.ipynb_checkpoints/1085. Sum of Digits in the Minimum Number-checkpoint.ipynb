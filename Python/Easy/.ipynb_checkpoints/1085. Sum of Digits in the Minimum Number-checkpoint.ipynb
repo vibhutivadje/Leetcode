{
 "cells": [
  {
   "cell_type": "markdown",
   "metadata": {},
   "source": [
    "# Problem"
   ]
  },
  {
   "cell_type": "markdown",
   "metadata": {},
   "source": [
    "https://leetcode.com/problems/sum-of-digits-in-the-minimum-number/"
   ]
  },
  {
   "cell_type": "markdown",
   "metadata": {},
   "source": [
    "Given an array nums of positive integers, let minDigitSum be the sum of the digits of the minimal element of nums.\n",
    "\n",
    "Return 0 if minDigitSum is odd, otherwise return 1.\n",
    "\n"
   ]
  },
  {
   "cell_type": "markdown",
   "metadata": {},
   "source": [
    "Example 1:<br>\n",
    "\n",
    "Input: nums = [34,23,1,24,75,33,54,8]<br>\n",
    "Output: 0<br>\n",
    "Explanation: <br>\n",
    "The minimal element is 1, and the sum of those digits is minDigitSum = 1 which is odd, so the answer is 0.<br>"
   ]
  },
  {
   "cell_type": "markdown",
   "metadata": {},
   "source": [
    "Example 2:<br>\n",
    "\n",
    "Input: nums = [99,77,33,66,55]<br>\n",
    "Output: 1<br>\n",
    "Explanation: <br>\n",
    "The minimal element is 33, and the sum of those digits is minDigitSum = 3 + 3 = 6 which is even, so the answer is 1.<br>"
   ]
  },
  {
   "cell_type": "markdown",
   "metadata": {},
   "source": [
    "# Solution1"
   ]
  },
  {
   "cell_type": "code",
   "execution_count": 8,
   "metadata": {},
   "outputs": [
    {
     "data": {
      "text/plain": [
       "1"
      ]
     },
     "execution_count": 8,
     "metadata": {},
     "output_type": "execute_result"
    }
   ],
   "source": [
    "def sumOfDigits(nums):\n",
    "    minDigitSum = min(nums)\n",
    "    res = 0\n",
    "    \n",
    "    for i in range(len(str(minDigitSum))):\n",
    "        res = res + minDigitSum%10\n",
    "        minDigitSum = minDigitSum//10\n",
    "        \n",
    "    if res%2 == 0:\n",
    "        return 1\n",
    "    else:\n",
    "        return 0\n",
    "sumOfDigits(nums = [99,77,33,66,55])\n",
    "# sumOfDigits(nums = [34,23,1,24,75,33,54,8])\n",
    "#time complexity: O(n)"
   ]
  },
  {
   "cell_type": "code",
   "execution_count": null,
   "metadata": {},
   "outputs": [],
   "source": []
  }
 ],
 "metadata": {
  "kernelspec": {
   "display_name": "Python 3",
   "language": "python",
   "name": "python3"
  },
  "language_info": {
   "codemirror_mode": {
    "name": "ipython",
    "version": 3
   },
   "file_extension": ".py",
   "mimetype": "text/x-python",
   "name": "python",
   "nbconvert_exporter": "python",
   "pygments_lexer": "ipython3",
   "version": "3.7.7"
  }
 },
 "nbformat": 4,
 "nbformat_minor": 4
}
