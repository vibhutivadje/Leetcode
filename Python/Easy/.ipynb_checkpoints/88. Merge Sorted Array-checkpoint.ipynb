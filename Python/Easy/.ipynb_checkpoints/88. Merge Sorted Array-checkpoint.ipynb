{
 "cells": [
  {
   "cell_type": "markdown",
   "metadata": {},
   "source": [
    "# Problem"
   ]
  },
  {
   "cell_type": "markdown",
   "metadata": {},
   "source": [
    "https://leetcode.com/problems/merge-sorted-array/"
   ]
  },
  {
   "cell_type": "markdown",
   "metadata": {},
   "source": [
    "You are given two integer arrays nums1 and nums2, sorted in non-decreasing order, and two integers m and n, representing the number of elements in nums1 and nums2 respectively.\n",
    "\n",
    "Merge nums1 and nums2 into a single array sorted in non-decreasing order.\n",
    "\n",
    "The final sorted array should not be returned by the function, but instead be stored inside the array nums1. To accommodate this, nums1 has a length of m + n, where the first m elements denote the elements that should be merged, and the last n elements are set to 0 and should be ignored. nums2 has a length of n."
   ]
  },
  {
   "cell_type": "markdown",
   "metadata": {},
   "source": [
    "Example 1:<br>\n",
    "\n",
    "Input: nums1 = [1,2,3,0,0,0], m = 3, nums2 = [2,5,6], n = 3<br>\n",
    "Output: [1,2,2,3,5,6]<br>\n",
    "Explanation: The arrays we are merging are [1,2,3] and [2,5,6].<br>\n",
    "The result of the merge is [1,2,2,3,5,6] with the underlined elements coming from nums1.<br>"
   ]
  },
  {
   "cell_type": "markdown",
   "metadata": {},
   "source": [
    "Example 2:<br>\n",
    "\n",
    "Input: nums1 = [1], m = 1, nums2 = [], n = 0<br>\n",
    "Output: [1]<br>\n",
    "Explanation: The arrays we are merging are [1] and [].<br>\n",
    "The result of the merge is [1].<br>"
   ]
  },
  {
   "cell_type": "markdown",
   "metadata": {},
   "source": [
    "Example 3:<br>\n",
    "\n",
    "Input: nums1 = [0], m = 0, nums2 = [1], n = 1<br>\n",
    "Output: [1]<br>\n",
    "Explanation: The arrays we are merging are [] and [1].<br>\n",
    "The result of the merge is [1].<br>\n",
    "Note that because m = 0, there are no elements in nums1. The 0 is only there to ensure the merge result can fit in nums1.<br>"
   ]
  },
  {
   "cell_type": "markdown",
   "metadata": {},
   "source": [
    "# Solution1:"
   ]
  },
  {
   "cell_type": "code",
   "execution_count": 3,
   "metadata": {},
   "outputs": [
    {
     "data": {
      "text/plain": [
       "[1, 2, 2, 3, 5, 6]"
      ]
     },
     "execution_count": 3,
     "metadata": {},
     "output_type": "execute_result"
    }
   ],
   "source": [
    "def merge(nums1, m, nums2, n):\n",
    "    #base condition \n",
    "    if not nums1 or not nums2 or len(nums1)==0 or len(nums2)==0:\n",
    "        return False\n",
    "    \n",
    "    p1=m-1\n",
    "    p2=n-1\n",
    "    curr = m+n-1\n",
    "    \n",
    "    while p1>=0 and p2>=0:\n",
    "        if nums1[p1]>nums2[p2]:\n",
    "            nums1[curr]=nums1[p1]\n",
    "            curr -= 1\n",
    "            p1-=1\n",
    "        else:\n",
    "            nums1[curr]=nums2[p2]\n",
    "            curr -= 1\n",
    "            p2-=1\n",
    "    #if elements remaining in second array        \n",
    "    while p2>=0:\n",
    "        nums1[curr]=nums2[p2]\n",
    "        curr -=1\n",
    "        p2-=1\n",
    "        \n",
    "    #if elements remaining in first array    \n",
    "    while p1>=0:\n",
    "        nums1[curr]=nums1[p1]\n",
    "        curr -=1\n",
    "        p1-=1    \n",
    "    \n",
    "    return nums1\n",
    "    \n",
    "merge(nums1 = [1,2,3,0,0,0], m = 3, nums2 = [2,5,6], n = 3)\n",
    "#time complexity:O(n)\n",
    "#space complexity:0(1)"
   ]
  },
  {
   "cell_type": "markdown",
   "metadata": {},
   "source": [
    "# Problem2:"
   ]
  },
  {
   "cell_type": "markdown",
   "metadata": {},
   "source": [
    "Merge two lists nums1=[1,2,3,3,5], nums2=[2,5,5,6,7]"
   ]
  },
  {
   "cell_type": "code",
   "execution_count": 13,
   "metadata": {},
   "outputs": [
    {
     "data": {
      "text/plain": [
       "[1, 2, 3, 3, 5, 5, 6, 7]"
      ]
     },
     "execution_count": 13,
     "metadata": {},
     "output_type": "execute_result"
    }
   ],
   "source": [
    "def mergearrays(nums1, nums2):\n",
    "    \n",
    "    #base condition\n",
    "    if not nums1 or not nums2 or len(nums1)==0 or len(nums2)==0:\n",
    "        return False\n",
    "    \n",
    "    res=[]\n",
    "    p1 = 0\n",
    "    p2 = 0\n",
    "    m = len(nums1)\n",
    "    n = len(nums2)\n",
    "    \n",
    "    while p1<m and p2<n:\n",
    "        if nums1[p1]<nums2[p2]:\n",
    "            res.append(nums1[p1])\n",
    "            p1+=1\n",
    "        elif nums1[p1]==nums2[p2]:\n",
    "            res.append(nums1[p1])\n",
    "            p1+=1\n",
    "            p2+=1\n",
    "        else:\n",
    "            res.append(nums2[p2])\n",
    "            p2+=1\n",
    "     \n",
    "    while p2<n:\n",
    "        res.append(nums2[p2])\n",
    "        p2+=1\n",
    "        \n",
    "    while p1<m:\n",
    "        res.append(nums1[p1])\n",
    "        p1+=1\n",
    "        \n",
    "    \n",
    "    return res\n",
    "\n",
    "mergearrays(nums1=[1,2,3,3,5], nums2=[2,5,5,6,7])"
   ]
  },
  {
   "cell_type": "code",
   "execution_count": null,
   "metadata": {},
   "outputs": [],
   "source": []
  }
 ],
 "metadata": {
  "kernelspec": {
   "display_name": "Python 3",
   "language": "python",
   "name": "python3"
  },
  "language_info": {
   "codemirror_mode": {
    "name": "ipython",
    "version": 3
   },
   "file_extension": ".py",
   "mimetype": "text/x-python",
   "name": "python",
   "nbconvert_exporter": "python",
   "pygments_lexer": "ipython3",
   "version": "3.7.7"
  }
 },
 "nbformat": 4,
 "nbformat_minor": 4
}
