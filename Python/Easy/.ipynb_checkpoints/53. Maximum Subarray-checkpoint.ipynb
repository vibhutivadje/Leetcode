{
 "cells": [
  {
   "cell_type": "markdown",
   "metadata": {},
   "source": [
    "# Problem "
   ]
  },
  {
   "cell_type": "markdown",
   "metadata": {},
   "source": [
    "https://leetcode.com/problems/maximum-subarray/"
   ]
  },
  {
   "cell_type": "markdown",
   "metadata": {},
   "source": [
    "Given an integer array nums, find the contiguous subarray (containing at least one number) which has the largest sum and return its sum.\n",
    "\n",
    " "
   ]
  },
  {
   "cell_type": "markdown",
   "metadata": {},
   "source": [
    "Example 1: <br>\n",
    "\n",
    "Input: nums = [-2,1,-3,4,-1,2,1,-5,4]<br>\n",
    "Output: 6<br>\n",
    "Explanation: [4,-1,2,1] has the largest sum = 6.<br>"
   ]
  },
  {
   "cell_type": "markdown",
   "metadata": {},
   "source": [
    "Example 2:<br>\n",
    "\n",
    "Input: nums = [1]<br>\n",
    "Output: 1<br>"
   ]
  },
  {
   "cell_type": "markdown",
   "metadata": {},
   "source": [
    "Example 3:<br>\n",
    "\n",
    "Input: nums = [5,4,-1,7,8]<br>\n",
    "Output: 23<br>"
   ]
  },
  {
   "cell_type": "markdown",
   "metadata": {},
   "source": [
    "# Solution1: Brute Force"
   ]
  },
  {
   "cell_type": "code",
   "execution_count": 9,
   "metadata": {},
   "outputs": [
    {
     "data": {
      "text/plain": [
       "23"
      ]
     },
     "execution_count": 9,
     "metadata": {},
     "output_type": "execute_result"
    }
   ],
   "source": [
    "def maxSubArray(nums):\n",
    "    \n",
    "    max_num = nums[0]\n",
    "    \n",
    "    for i in range(len(nums)-1):\n",
    "        sum_t = 0\n",
    "        for j in range(i, len(nums)):\n",
    "            sum_t += nums[j]\n",
    "            max_num = max(max_num,sum_t)\n",
    "        \n",
    "    return max_num\n",
    "#maxSubArray(nums = [-2,1,-3,4,-1,2,1,-5,4])\n",
    "maxSubArray(nums = [5,4,-1,7,8])"
   ]
  },
  {
   "cell_type": "markdown",
   "metadata": {},
   "source": [
    "# Solution2:DP"
   ]
  },
  {
   "cell_type": "code",
   "execution_count": 10,
   "metadata": {},
   "outputs": [
    {
     "data": {
      "text/plain": [
       "6"
      ]
     },
     "execution_count": 10,
     "metadata": {},
     "output_type": "execute_result"
    }
   ],
   "source": [
    "def maxSubArray(nums):\n",
    "    \n",
    "    max_at_i = nums[0]\n",
    "    global_max = nums[0]\n",
    "    \n",
    "    for i in range(1, len(nums)):\n",
    "        max_at_i = max(nums[i], max_at_i + nums[i])\n",
    "        global_max = max(global_max, max_at_i)\n",
    "        \n",
    "    return global_max\n",
    "maxSubArray(nums = [-2,1,-3,4,-1,2,1,-5,4])\n",
    "#maxSubArray(nums = [5,4,-1,7,8])"
   ]
  },
  {
   "cell_type": "code",
   "execution_count": null,
   "metadata": {},
   "outputs": [],
   "source": []
  }
 ],
 "metadata": {
  "kernelspec": {
   "display_name": "Python 3",
   "language": "python",
   "name": "python3"
  },
  "language_info": {
   "codemirror_mode": {
    "name": "ipython",
    "version": 3
   },
   "file_extension": ".py",
   "mimetype": "text/x-python",
   "name": "python",
   "nbconvert_exporter": "python",
   "pygments_lexer": "ipython3",
   "version": "3.7.7"
  }
 },
 "nbformat": 4,
 "nbformat_minor": 4
}
