{
 "cells": [
  {
   "cell_type": "markdown",
   "metadata": {},
   "source": [
    "# Problem:"
   ]
  },
  {
   "cell_type": "markdown",
   "metadata": {},
   "source": [
    "https://leetcode.com/problems/palindrome-permutation/"
   ]
  },
  {
   "cell_type": "markdown",
   "metadata": {},
   "source": [
    "Given a string s, return true if a permutation of the string could form a palindrome."
   ]
  },
  {
   "cell_type": "markdown",
   "metadata": {},
   "source": [
    "# Example 1:<br>\n",
    "\n",
    "Input: s = \"code\"<br>\n",
    "Output: false<br>"
   ]
  },
  {
   "cell_type": "markdown",
   "metadata": {},
   "source": [
    "# Example 2:<br>\n",
    "\n",
    "Input: s = \"aab\"<br>\n",
    "Output: true<br>"
   ]
  },
  {
   "cell_type": "markdown",
   "metadata": {},
   "source": [
    "# Example 3:<br>\n",
    "\n",
    "Input: s = \"carerac\"<br>\n",
    "Output: true<br>"
   ]
  },
  {
   "cell_type": "markdown",
   "metadata": {},
   "source": [
    "# Solution1:"
   ]
  },
  {
   "cell_type": "code",
   "execution_count": 5,
   "metadata": {},
   "outputs": [
    {
     "data": {
      "text/plain": [
       "False"
      ]
     },
     "execution_count": 5,
     "metadata": {},
     "output_type": "execute_result"
    }
   ],
   "source": [
    "def canPermutePalindrome(s):\n",
    "    \n",
    "    \n",
    "    d = {}\n",
    "    cnt_even = 0\n",
    "    cnt_odd = 0\n",
    "    \n",
    "    for i in s:\n",
    "        if i in d:\n",
    "            d[i] += 1\n",
    "        else:\n",
    "            d[i] = 1\n",
    "          \n",
    "    for keys in d:\n",
    "        if d[keys]%2==0:\n",
    "            cnt_even += 1\n",
    "        else:\n",
    "            cnt_odd += 1\n",
    "            \n",
    "    if cnt_odd > 1:\n",
    "        return False\n",
    "    return True\n",
    "        \n",
    "#canPermutePalindrome(s = \"carerac\")\n",
    "#canPermutePalindrome(s = \"aab\")\n",
    "canPermutePalindrome(s = \"code\")\n",
    "\n",
    "#Time complexity: O(n)"
   ]
  },
  {
   "cell_type": "code",
   "execution_count": null,
   "metadata": {},
   "outputs": [],
   "source": []
  }
 ],
 "metadata": {
  "kernelspec": {
   "display_name": "Python 3",
   "language": "python",
   "name": "python3"
  },
  "language_info": {
   "codemirror_mode": {
    "name": "ipython",
    "version": 3
   },
   "file_extension": ".py",
   "mimetype": "text/x-python",
   "name": "python",
   "nbconvert_exporter": "python",
   "pygments_lexer": "ipython3",
   "version": "3.7.7"
  }
 },
 "nbformat": 4,
 "nbformat_minor": 4
}
