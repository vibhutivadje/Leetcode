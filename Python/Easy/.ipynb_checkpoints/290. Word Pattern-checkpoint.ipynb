{
 "cells": [
  {
   "cell_type": "markdown",
   "metadata": {},
   "source": [
    "# Problem"
   ]
  },
  {
   "cell_type": "markdown",
   "metadata": {},
   "source": [
    "https://leetcode.com/problems/word-pattern/"
   ]
  },
  {
   "cell_type": "markdown",
   "metadata": {},
   "source": [
    "Given a pattern and a string s, find if s follows the same pattern.\n",
    "\n",
    "Here follow means a full match, such that there is a bijection between a letter in pattern and a non-empty word in s."
   ]
  },
  {
   "cell_type": "markdown",
   "metadata": {},
   "source": [
    "Example 1:<br>\n",
    "\n",
    "Input: pattern = \"abba\", s = \"dog cat cat dog\"<br>\n",
    "Output: true<br>"
   ]
  },
  {
   "cell_type": "markdown",
   "metadata": {},
   "source": [
    "Example 2:<br>\n",
    "\n",
    "Input: pattern = \"abba\", s = \"dog cat cat fish\"<br>\n",
    "Output: false<br>"
   ]
  },
  {
   "cell_type": "markdown",
   "metadata": {},
   "source": [
    "Example 3:<br>\n",
    "\n",
    "Input: pattern = \"aaaa\", s = \"dog cat cat dog\"<br>\n",
    "Output: false<br>"
   ]
  },
  {
   "cell_type": "markdown",
   "metadata": {},
   "source": [
    "Example 4:<br>\n",
    "\n",
    "Input: pattern = \"abba\", s = \"dog dog dog dog\"<br>\n",
    "Output: false<br>"
   ]
  },
  {
   "cell_type": "markdown",
   "metadata": {},
   "source": [
    "# Solution1"
   ]
  },
  {
   "cell_type": "code",
   "execution_count": 9,
   "metadata": {},
   "outputs": [
    {
     "data": {
      "text/plain": [
       "False"
      ]
     },
     "execution_count": 9,
     "metadata": {},
     "output_type": "execute_result"
    }
   ],
   "source": [
    "def wordPattern(pattern, s):\n",
    "    s_arr = s.split(\" \")\n",
    "    p_map = {}\n",
    "    s_map = {}\n",
    "    \n",
    "    if len(s_arr)!=len(pattern):\n",
    "        return False\n",
    "    \n",
    "    for i in range(len(pattern)):\n",
    "        l = pattern[i]\n",
    "        w = s_arr[i]\n",
    "        \n",
    "        if l not in p_map:\n",
    "            p_map[l] = w\n",
    "        else:\n",
    "            if p_map[l] != w:\n",
    "                return False\n",
    "            \n",
    "        if w not in s_map:\n",
    "            s_map[w] = l\n",
    "        else:\n",
    "            if s_map[w] != l:\n",
    "                return False\n",
    "            \n",
    "    return True\n",
    "    \n",
    "# wordPattern(pattern = \"abba\", s = \"dog cat cat dog\")\n",
    "# wordPattern(pattern = \"abba\", s = \"dog cat cat fish\")\n",
    "# wordPattern(pattern = \"aaaa\", s = \"dog cat cat dog\")\n",
    "wordPattern(pattern = \"abba\", s = \"dog dog dog dog\")\n",
    "\n",
    "#Time Complexity: O(n) n->length of the string\n",
    "#Space Complexity: O(n) to store pattern and variables"
   ]
  },
  {
   "cell_type": "code",
   "execution_count": null,
   "metadata": {},
   "outputs": [],
   "source": []
  }
 ],
 "metadata": {
  "kernelspec": {
   "display_name": "Python 3",
   "language": "python",
   "name": "python3"
  },
  "language_info": {
   "codemirror_mode": {
    "name": "ipython",
    "version": 3
   },
   "file_extension": ".py",
   "mimetype": "text/x-python",
   "name": "python",
   "nbconvert_exporter": "python",
   "pygments_lexer": "ipython3",
   "version": "3.7.7"
  }
 },
 "nbformat": 4,
 "nbformat_minor": 4
}
