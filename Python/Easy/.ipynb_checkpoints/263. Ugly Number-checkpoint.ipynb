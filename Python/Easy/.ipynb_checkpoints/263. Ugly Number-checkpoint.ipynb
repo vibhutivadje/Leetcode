{
 "cells": [
  {
   "cell_type": "markdown",
   "metadata": {},
   "source": [
    "# Problem"
   ]
  },
  {
   "cell_type": "markdown",
   "metadata": {},
   "source": [
    "https://leetcode.com/problems/ugly-number/"
   ]
  },
  {
   "cell_type": "markdown",
   "metadata": {},
   "source": [
    "An ugly number is a positive integer whose prime factors are limited to 2, 3, and 5.\n",
    "\n",
    "Given an integer n, return true if n is an ugly number."
   ]
  },
  {
   "cell_type": "markdown",
   "metadata": {},
   "source": [
    "Example 1:<br>\n",
    "\n",
    "Input: n = 6<br>\n",
    "Output: true<br>\n",
    "Explanation: 6 = 2 × 3<br>"
   ]
  },
  {
   "cell_type": "markdown",
   "metadata": {},
   "source": [
    "Example 2: <br>\n",
    "\n",
    "Input: n = 8 <br>\n",
    "Output: true <br>\n",
    "Explanation: 8 = 2 × 2 × 2 <br>"
   ]
  },
  {
   "cell_type": "markdown",
   "metadata": {},
   "source": [
    "Example 3: <br>\n",
    "\n",
    "Input: n = 14 <br>\n",
    "Output: false <br>\n",
    "Explanation: 14 is not ugly since it includes the prime factor 7.<br>"
   ]
  },
  {
   "cell_type": "markdown",
   "metadata": {},
   "source": [
    "Example 4: <br>\n",
    "\n",
    "Input: n = 1 <br>\n",
    "Output: true <br>\n",
    "Explanation: 1 has no prime factors, therefore all of its prime factors are limited to 2, 3, and 5. <br>"
   ]
  },
  {
   "cell_type": "markdown",
   "metadata": {},
   "source": [
    "# Solution1"
   ]
  },
  {
   "cell_type": "code",
   "execution_count": 6,
   "metadata": {},
   "outputs": [
    {
     "data": {
      "text/plain": [
       "True"
      ]
     },
     "execution_count": 6,
     "metadata": {},
     "output_type": "execute_result"
    }
   ],
   "source": [
    "def isUgly(n):\n",
    "    \n",
    "    if n==1:\n",
    "        return True\n",
    "    \n",
    "    for x in [2,3,5]:\n",
    "        while n%x==0:\n",
    "            n=n/x\n",
    "    return n==1\n",
    "    \n",
    "    \n",
    "# isUgly(n=14)\n",
    "isUgly(n=8)\n",
    "\n",
    "#Time Complexity: O(n-square)\n",
    "#Space Complexity: O(1)"
   ]
  },
  {
   "cell_type": "code",
   "execution_count": null,
   "metadata": {},
   "outputs": [],
   "source": []
  }
 ],
 "metadata": {
  "kernelspec": {
   "display_name": "Python 3",
   "language": "python",
   "name": "python3"
  },
  "language_info": {
   "codemirror_mode": {
    "name": "ipython",
    "version": 3
   },
   "file_extension": ".py",
   "mimetype": "text/x-python",
   "name": "python",
   "nbconvert_exporter": "python",
   "pygments_lexer": "ipython3",
   "version": "3.7.7"
  }
 },
 "nbformat": 4,
 "nbformat_minor": 4
}
