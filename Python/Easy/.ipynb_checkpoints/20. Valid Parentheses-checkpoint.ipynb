{
 "cells": [
  {
   "cell_type": "markdown",
   "metadata": {},
   "source": [
    "# Problem"
   ]
  },
  {
   "cell_type": "markdown",
   "metadata": {},
   "source": [
    "Given a string s containing just the characters '(', ')', '{', '}', '[' and ']', determine if the input string is valid.\n",
    "\n",
    "An input string is valid if:\n",
    "\n",
    "Open brackets must be closed by the same type of brackets.\n",
    "Open brackets must be closed in the correct order.\n",
    " "
   ]
  },
  {
   "cell_type": "markdown",
   "metadata": {},
   "source": [
    "<b>Example 1:</b><br>\n",
    "\n",
    "Input: s = \"()\"<br>\n",
    "Output: true<br>"
   ]
  },
  {
   "cell_type": "markdown",
   "metadata": {},
   "source": [
    "<b>Example 2:</b><br>\n",
    "\n",
    "Input: s = \"()[]{}\"<br>\n",
    "Output: true<br>"
   ]
  },
  {
   "cell_type": "code",
   "execution_count": 10,
   "metadata": {},
   "outputs": [
    {
     "data": {
      "text/plain": [
       "True"
      ]
     },
     "execution_count": 10,
     "metadata": {},
     "output_type": "execute_result"
    }
   ],
   "source": [
    "def isValid(s):\n",
    "    \n",
    "    val = ['()','[]','{}']\n",
    "    \n",
    "    #base condition:\n",
    "    if len(s)%2!=0:\n",
    "        return -1\n",
    "    \n",
    "    while(len(s)!=0):\n",
    "        for v in val:\n",
    "            s = s.replace(v,\"\")\n",
    "            if len(s)==0:\n",
    "                return True\n",
    "                break\n",
    "            else:\n",
    "                return False\n",
    "                break\n",
    "            \n",
    "# isValid(s = \"()[]{}\")\n",
    "# isValid(s = \"(]\")\n",
    "# isValid(s = \"()[]{}\")\n",
    "# isValid(s = \"{[]}\")\n",
    "isValid(s = \"()\")\n",
    "\n",
    "#timecomplexity: O(n) SpaceComplexity: O(1)"
   ]
  },
  {
   "cell_type": "code",
   "execution_count": null,
   "metadata": {},
   "outputs": [],
   "source": []
  }
 ],
 "metadata": {
  "kernelspec": {
   "display_name": "Python 3",
   "language": "python",
   "name": "python3"
  },
  "language_info": {
   "codemirror_mode": {
    "name": "ipython",
    "version": 3
   },
   "file_extension": ".py",
   "mimetype": "text/x-python",
   "name": "python",
   "nbconvert_exporter": "python",
   "pygments_lexer": "ipython3",
   "version": "3.7.7"
  }
 },
 "nbformat": 4,
 "nbformat_minor": 4
}
