{
 "cells": [
  {
   "cell_type": "markdown",
   "metadata": {},
   "source": [
    "# Problem"
   ]
  },
  {
   "cell_type": "markdown",
   "metadata": {},
   "source": [
    "https://leetcode.com/problems/decode-xored-array/"
   ]
  },
  {
   "cell_type": "markdown",
   "metadata": {},
   "source": [
    "There is a hidden integer array arr that consists of n non-negative integers.\n",
    "\n",
    "It was encoded into another integer array encoded of length n - 1, such that encoded[i] = arr[i] XOR arr[i + 1]. For example, if arr = [1,0,2,1], then encoded = [1,2,3].\n",
    "\n",
    "You are given the encoded array. You are also given an integer first, that is the first element of arr, i.e. arr[0].\n",
    "\n",
    "Return the original array arr. It can be proved that the answer exists and is unique."
   ]
  },
  {
   "cell_type": "markdown",
   "metadata": {},
   "source": [
    "Example 1:<br>\n",
    "\n",
    "Input: encoded = [1,2,3], first = 1<br>\n",
    "Output: [1,0,2,1]<br>\n",
    "Explanation: If arr = [1,0,2,1], then first = 1 and encoded = [1 XOR 0, 0 XOR 2, 2 XOR 1] = [1,2,3]<br>\n",
    "\n",
    "Example 2:<br>\n",
    "\n",
    "Input: encoded = [6,2,7,3], first = 4<br>\n",
    "Output: [4,2,0,7,4]<br>"
   ]
  },
  {
   "cell_type": "markdown",
   "metadata": {},
   "source": [
    "# Solution1:"
   ]
  },
  {
   "cell_type": "code",
   "execution_count": 5,
   "metadata": {},
   "outputs": [
    {
     "data": {
      "text/plain": [
       "[1, 0, 2, 1]"
      ]
     },
     "execution_count": 5,
     "metadata": {},
     "output_type": "execute_result"
    }
   ],
   "source": [
    "def decode(encoded, first):\n",
    "        #base condition\n",
    "        if len(encoded)<2:\n",
    "            return -1\n",
    "        \n",
    "        res = [first]\n",
    "        for a in encoded:\n",
    "            res.append(res[-1] ^ a)\n",
    "        return res\n",
    "    \n",
    "decode(encoded = [1,2,3], first = 1)\n",
    "#Time complexity: O(n)\n",
    "#space complexity: O(n)"
   ]
  },
  {
   "cell_type": "markdown",
   "metadata": {},
   "source": [
    "# Solution2:"
   ]
  },
  {
   "cell_type": "code",
   "execution_count": 8,
   "metadata": {},
   "outputs": [
    {
     "data": {
      "text/plain": [
       "[4, 2, 0, 7, 4]"
      ]
     },
     "execution_count": 8,
     "metadata": {},
     "output_type": "execute_result"
    }
   ],
   "source": [
    "from itertools import accumulate\n",
    "from operator import xor\n",
    "def decode(encoded, first):\n",
    "        return list(accumulate([first] + encoded, lambda x, y: x ^ y))\n",
    "    \n",
    "decode(encoded = [6,2,7,3], first = 4)"
   ]
  },
  {
   "cell_type": "markdown",
   "metadata": {},
   "source": [
    "- Good explanation\n",
    "https://donic0211.medium.com/leetcode-1720-decode-xored-array-5c9b85c53867"
   ]
  },
  {
   "cell_type": "code",
   "execution_count": null,
   "metadata": {},
   "outputs": [],
   "source": []
  }
 ],
 "metadata": {
  "kernelspec": {
   "display_name": "Python 3",
   "language": "python",
   "name": "python3"
  },
  "language_info": {
   "codemirror_mode": {
    "name": "ipython",
    "version": 3
   },
   "file_extension": ".py",
   "mimetype": "text/x-python",
   "name": "python",
   "nbconvert_exporter": "python",
   "pygments_lexer": "ipython3",
   "version": "3.7.7"
  }
 },
 "nbformat": 4,
 "nbformat_minor": 4
}
