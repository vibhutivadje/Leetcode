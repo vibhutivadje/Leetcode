{
 "cells": [
  {
   "cell_type": "markdown",
   "metadata": {},
   "source": [
    "# Problem"
   ]
  },
  {
   "cell_type": "markdown",
   "metadata": {},
   "source": [
    "https://leetcode.com/problems/truncate-sentence/"
   ]
  },
  {
   "cell_type": "markdown",
   "metadata": {},
   "source": [
    "A sentence is a list of words that are separated by a single space with no leading or trailing spaces. Each of the words consists of only uppercase and lowercase English letters (no punctuation).\n",
    "\n",
    "For example, \"Hello World\", \"HELLO\", and \"hello world hello world\" are all sentences.\n",
    "You are given a sentence s​​​​​​ and an integer k​​​​​​. You want to truncate s​​​​​​ such that it contains only the first k​​​​​​ words. Return s​​​​​​ after truncating it."
   ]
  },
  {
   "cell_type": "markdown",
   "metadata": {},
   "source": [
    "# Example 1:<br>\n",
    "\n",
    "Input: s = \"Hello how are you Contestant\", k = 4<br>\n",
    "Output: \"Hello how are you\"<br>\n",
    "Explanation:<br>\n",
    "The words in s are [\"Hello\", \"how\" \"are\", \"you\", \"Contestant\"].<br>\n",
    "The first 4 words are [\"Hello\", \"how\", \"are\", \"you\"].<br>\n",
    "Hence, you should return \"Hello how are you\".<br>"
   ]
  },
  {
   "cell_type": "markdown",
   "metadata": {},
   "source": [
    "# Example 2:<br>\n",
    "\n",
    "Input: s = \"What is the solution to this problem\", k = 4<br>\n",
    "Output: \"What is the solution\"<br>\n",
    "Explanation:<br>\n",
    "The words in s are [\"What\", \"is\" \"the\", \"solution\", \"to\", \"this\", \"problem\"].<br>\n",
    "The first 4 words are [\"What\", \"is\", \"the\", \"solution\"].<br>\n",
    "Hence, you should return \"What is the solution\".<br>"
   ]
  },
  {
   "cell_type": "markdown",
   "metadata": {},
   "source": [
    "# Example 3:<br>\n",
    "\n",
    "Input: s = \"chopper is not a tanuki\", k = 5<br>\n",
    "Output: \"chopper is not a tanuki\"<br>"
   ]
  },
  {
   "cell_type": "code",
   "execution_count": null,
   "metadata": {},
   "outputs": [],
   "source": []
  }
 ],
 "metadata": {
  "kernelspec": {
   "display_name": "Python 3",
   "language": "python",
   "name": "python3"
  },
  "language_info": {
   "codemirror_mode": {
    "name": "ipython",
    "version": 3
   },
   "file_extension": ".py",
   "mimetype": "text/x-python",
   "name": "python",
   "nbconvert_exporter": "python",
   "pygments_lexer": "ipython3",
   "version": "3.7.7"
  }
 },
 "nbformat": 4,
 "nbformat_minor": 4
}
