{
 "cells": [
  {
   "cell_type": "markdown",
   "metadata": {},
   "source": [
    "# Problem"
   ]
  },
  {
   "cell_type": "markdown",
   "metadata": {},
   "source": [
    "https://leetcode.com/problems/check-if-two-string-arrays-are-equivalent/"
   ]
  },
  {
   "cell_type": "markdown",
   "metadata": {},
   "source": [
    "Given two string arrays word1 and word2, return true if the two arrays represent the same string, and false otherwise.\n",
    "\n",
    "A string is represented by an array if the array elements concatenated in order forms the string."
   ]
  },
  {
   "cell_type": "markdown",
   "metadata": {},
   "source": [
    "Example 1:<br>\n",
    "\n",
    "Input: word1 = [\"ab\", \"c\"], word2 = [\"a\", \"bc\"]<br>\n",
    "Output: true<br>\n",
    "Explanation:<br>\n",
    "word1 represents string \"ab\" + \"c\" -> \"abc\"<br>\n",
    "word2 represents string \"a\" + \"bc\" -> \"abc\"<br>\n",
    "The strings are the same, so return true.<br>"
   ]
  },
  {
   "cell_type": "markdown",
   "metadata": {},
   "source": [
    "Example 2:<br>\n",
    "\n",
    "Input: <br>\n",
    "    word1 = [\"a\", \"cb\"],<br>\n",
    "    word2 = [\"ab\", \"c\"]<br>\n",
    "Output: false<br>"
   ]
  },
  {
   "cell_type": "markdown",
   "metadata": {},
   "source": [
    "Example 3:<br>\n",
    "\n",
    "Input: <br>\n",
    "word1  = [\"abc\", \"d\", \"defg\"], <br>\n",
    "word2 = [\"abcddefg\"]<br>\n",
    "Output: true <br>"
   ]
  },
  {
   "cell_type": "markdown",
   "metadata": {},
   "source": [
    "# Solution1:"
   ]
  },
  {
   "cell_type": "code",
   "execution_count": 5,
   "metadata": {},
   "outputs": [
    {
     "data": {
      "text/plain": [
       "True"
      ]
     },
     "execution_count": 5,
     "metadata": {},
     "output_type": "execute_result"
    }
   ],
   "source": [
    "def string_match(word1, word2):\n",
    "    \n",
    "    str1 = ''\n",
    "    str2 = ''\n",
    "    for i in word1:\n",
    "        str1 += i\n",
    "        \n",
    "    for j in word2:\n",
    "        str2 += j\n",
    "        \n",
    "    if str1 == str2:\n",
    "        return True\n",
    "    else:\n",
    "        return False\n",
    "        \n",
    "        \n",
    "    \n",
    "#string_match(word1 = [\"ab\", \"c\"], word2 = [\"a\", \"bc\"])\n",
    "#string_match(word1 =  [\"a\", \"cb\"], word2 = [\"ab\", \"c\"])\n",
    "string_match(word1 =  [\"abc\", \"d\", \"defg\"], word2 = [\"abcddefg\"])\n",
    "\n",
    "#Time complexity: O(n)\n",
    "#Space complexity: O(n)"
   ]
  },
  {
   "cell_type": "markdown",
   "metadata": {},
   "source": [
    "# Solution2:"
   ]
  },
  {
   "cell_type": "code",
   "execution_count": 7,
   "metadata": {},
   "outputs": [
    {
     "data": {
      "text/plain": [
       "False"
      ]
     },
     "execution_count": 7,
     "metadata": {},
     "output_type": "execute_result"
    }
   ],
   "source": [
    "def string_match(word1, word2):\n",
    "    \n",
    "    return \"\".join(word1) == \"\".join(word2)\n",
    "        \n",
    "        \n",
    "    \n",
    "#string_match(word1 = [\"ab\", \"c\"], word2 = [\"a\", \"bc\"])\n",
    "string_match(word1 =  [\"a\", \"cb\"], word2 = [\"ab\", \"c\"])\n",
    "# string_match(word1 =  [\"abc\", \"d\", \"defg\"], word2 = [\"abcddefg\"])"
   ]
  },
  {
   "cell_type": "code",
   "execution_count": null,
   "metadata": {},
   "outputs": [],
   "source": []
  }
 ],
 "metadata": {
  "kernelspec": {
   "display_name": "Python 3",
   "language": "python",
   "name": "python3"
  },
  "language_info": {
   "codemirror_mode": {
    "name": "ipython",
    "version": 3
   },
   "file_extension": ".py",
   "mimetype": "text/x-python",
   "name": "python",
   "nbconvert_exporter": "python",
   "pygments_lexer": "ipython3",
   "version": "3.7.7"
  }
 },
 "nbformat": 4,
 "nbformat_minor": 4
}
