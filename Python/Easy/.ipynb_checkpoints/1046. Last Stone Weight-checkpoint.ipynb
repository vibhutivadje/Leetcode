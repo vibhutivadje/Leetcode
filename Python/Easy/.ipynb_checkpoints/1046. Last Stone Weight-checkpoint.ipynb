{
 "cells": [
  {
   "cell_type": "markdown",
   "metadata": {},
   "source": [
    "# Problem"
   ]
  },
  {
   "cell_type": "markdown",
   "metadata": {},
   "source": [
    "You are given an array of integers stones where stones[i] is the weight of the ith stone.\n",
    "\n",
    "We are playing a game with the stones. On each turn, we choose the heaviest two stones and smash them together. Suppose the heaviest two stones have weights x and y with x <= y. The result of this smash is:\n",
    "\n",
    "If x == y, both stones are destroyed, and\n",
    "If x != y, the stone of weight x is destroyed, and the stone of weight y has new weight y - x.\n",
    "At the end of the game, there is at most one stone left.\n",
    "\n",
    "Return the smallest possible weight of the left stone. If there are no stones left, return 0."
   ]
  },
  {
   "cell_type": "markdown",
   "metadata": {},
   "source": [
    "<B>Example 1:</B><br>\n",
    "\n",
    "Input: stones = [2,7,4,1,8,1]<br>\n",
    "Output: 1<br>\n",
    "Explanation: <br>\n",
    "We combine 7 and 8 to get 1 so the array converts to [2,4,1,1,1] then,<br>\n",
    "we combine 2 and 4 to get 2 so the array converts to [2,1,1,1] then,<br>\n",
    "we combine 2 and 1 to get 1 so the array converts to [1,1,1] then,<br>\n",
    "we combine 1 and 1 to get 0 so the array converts to [1] then that's the value of the last stone. <br>\n"
   ]
  },
  {
   "cell_type": "code",
   "execution_count": null,
   "metadata": {},
   "outputs": [],
   "source": []
  }
 ],
 "metadata": {
  "kernelspec": {
   "display_name": "Python 3",
   "language": "python",
   "name": "python3"
  },
  "language_info": {
   "codemirror_mode": {
    "name": "ipython",
    "version": 3
   },
   "file_extension": ".py",
   "mimetype": "text/x-python",
   "name": "python",
   "nbconvert_exporter": "python",
   "pygments_lexer": "ipython3",
   "version": "3.7.7"
  }
 },
 "nbformat": 4,
 "nbformat_minor": 4
}
