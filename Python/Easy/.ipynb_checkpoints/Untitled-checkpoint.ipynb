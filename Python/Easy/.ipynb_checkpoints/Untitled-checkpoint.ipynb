{
 "cells": [
  {
   "cell_type": "code",
   "execution_count": null,
   "metadata": {},
   "outputs": [],
   "source": []
  },
  {
   "cell_type": "code",
   "execution_count": 12,
   "metadata": {},
   "outputs": [
    {
     "name": "stdout",
     "output_type": "stream",
     "text": [
      "1 0\n",
      "[1]\n",
      "1 1\n",
      "[4]\n",
      "1 2\n",
      "[2]\n",
      "1 3\n",
      "[5]\n",
      "1 4\n",
      "[3]\n",
      "3 0\n",
      "[1, 4, 2]\n",
      "3 1\n",
      "[4, 2, 5]\n",
      "3 2\n",
      "[2, 5, 3]\n",
      "5 0\n",
      "[1, 4, 2, 5, 3]\n"
     ]
    },
    {
     "data": {
      "text/plain": [
       "58"
      ]
     },
     "execution_count": 12,
     "metadata": {},
     "output_type": "execute_result"
    }
   ],
   "source": [
    "def sumOddLengthSubarrays(arr):\n",
    "    \n",
    "    n = len(arr)\n",
    "    res = 0\n",
    "    for l in range(1, n + 1, 2):\n",
    "        for i in range(n - l + 1):\n",
    "            print(l,i)\n",
    "            print(arr[i:i + l])\n",
    "            res += sum(arr[i:i + l])\n",
    "    return res\n",
    "    \n",
    "sumOddLengthSubarrays(arr = [1,4,2,5,3])"
   ]
  },
  {
   "cell_type": "code",
   "execution_count": 15,
   "metadata": {},
   "outputs": [
    {
     "data": {
      "text/plain": [
       "2"
      ]
     },
     "execution_count": 15,
     "metadata": {},
     "output_type": "execute_result"
    }
   ],
   "source": [
    "def countConsistentStrings(allowed, words):\n",
    "    \n",
    "    cons_cnt = 0\n",
    "    \n",
    "    for i in words:\n",
    "        cons_cnt += 1\n",
    "        for j in i:\n",
    "            if j not in allowed:\n",
    "                cons_cnt -= 1\n",
    "                break\n",
    "    return cons_cnt\n",
    "            \n",
    "    \n",
    "countConsistentStrings(allowed = \"ab\", words = [\"ad\",\"bd\",\"aaab\",\"baa\",\"badab\"])"
   ]
  },
  {
   "cell_type": "code",
   "execution_count": null,
   "metadata": {},
   "outputs": [],
   "source": []
  }
 ],
 "metadata": {
  "kernelspec": {
   "display_name": "Python 3",
   "language": "python",
   "name": "python3"
  },
  "language_info": {
   "codemirror_mode": {
    "name": "ipython",
    "version": 3
   },
   "file_extension": ".py",
   "mimetype": "text/x-python",
   "name": "python",
   "nbconvert_exporter": "python",
   "pygments_lexer": "ipython3",
   "version": "3.7.7"
  }
 },
 "nbformat": 4,
 "nbformat_minor": 4
}
