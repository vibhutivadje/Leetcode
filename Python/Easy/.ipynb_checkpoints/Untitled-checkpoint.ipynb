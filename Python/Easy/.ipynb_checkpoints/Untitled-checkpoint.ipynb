{
 "cells": [
  {
   "cell_type": "code",
   "execution_count": null,
   "metadata": {},
   "outputs": [],
   "source": []
  },
  {
   "cell_type": "code",
   "execution_count": null,
   "metadata": {},
   "outputs": [],
   "source": [
    "Search in Rotated Sorted Array"
   ]
  },
  {
   "cell_type": "code",
   "execution_count": 8,
   "metadata": {},
   "outputs": [
    {
     "data": {
      "text/plain": [
       "4"
      ]
     },
     "execution_count": 8,
     "metadata": {},
     "output_type": "execute_result"
    }
   ],
   "source": [
    "def search_array(nums, target):\n",
    "    \n",
    "    if nums is None or len(nums) == 0:\n",
    "        return -1\n",
    "    \n",
    "    left = 0\n",
    "    right = len(nums)-1\n",
    "#     mid = int(left+(right-left)/2)\n",
    "#     print(mid) \n",
    "    \n",
    "    while(left<=right):\n",
    "    \n",
    "        mid = int(left+(right-left)/2)\n",
    "        \n",
    "        #bingo found it\n",
    "        if nums[mid]==target:\n",
    "            return mid\n",
    "        \n",
    "        #check whether left is sorted:\n",
    "        if(nums[left]<nums[mid]):\n",
    "            if(nums[left]<=target and target<nums[mid]):\n",
    "                right = mid -1\n",
    "            else:\n",
    "                left = mid + 1\n",
    "        else:\n",
    "            #if left is not sorted means right is sorted\n",
    "            if(target>nums[mid] and target<=nums[right]):\n",
    "                left = mid + 1\n",
    "            else:\n",
    "                right = mid -1\n",
    "    \n",
    "\n",
    "search_array(nums = [4,5,6,7,0,1,2], target = 0)"
   ]
  },
  {
   "cell_type": "code",
   "execution_count": null,
   "metadata": {},
   "outputs": [],
   "source": []
  }
 ],
 "metadata": {
  "kernelspec": {
   "display_name": "Python 3",
   "language": "python",
   "name": "python3"
  },
  "language_info": {
   "codemirror_mode": {
    "name": "ipython",
    "version": 3
   },
   "file_extension": ".py",
   "mimetype": "text/x-python",
   "name": "python",
   "nbconvert_exporter": "python",
   "pygments_lexer": "ipython3",
   "version": "3.7.7"
  }
 },
 "nbformat": 4,
 "nbformat_minor": 4
}
