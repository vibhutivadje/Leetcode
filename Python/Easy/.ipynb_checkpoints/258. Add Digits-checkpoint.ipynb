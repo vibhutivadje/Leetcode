{
 "cells": [
  {
   "cell_type": "markdown",
   "metadata": {},
   "source": [
    "# Problem"
   ]
  },
  {
   "cell_type": "markdown",
   "metadata": {},
   "source": [
    "Given an integer num, repeatedly add all its digits until the result has only one digit, and return it."
   ]
  },
  {
   "cell_type": "markdown",
   "metadata": {},
   "source": [
    "Example 1:<br>\n",
    "\n",
    "Input: num = 38<br>\n",
    "Output: 2<br>\n",
    "Explanation: The process is<br>\n",
    "38 --> 3 + 8 --> 11<br>\n",
    "11 --> 1 + 1 --> 2 <br>\n",
    "Since 2 has only one digit, return it.<br>"
   ]
  },
  {
   "cell_type": "markdown",
   "metadata": {},
   "source": [
    "# Solution1:"
   ]
  },
  {
   "cell_type": "code",
   "execution_count": 4,
   "metadata": {},
   "outputs": [
    {
     "data": {
      "text/plain": [
       "2"
      ]
     },
     "execution_count": 4,
     "metadata": {},
     "output_type": "execute_result"
    }
   ],
   "source": [
    "def addDigits(num):\n",
    "        \n",
    "    if num < 10:\n",
    "        return num\n",
    "            \n",
    "    while num > 9:\n",
    "        num = sum([int(i) for i in str(num)])\n",
    "#         print(num)    \n",
    "    return num\n",
    "\n",
    "addDigits(num = 38)\n",
    "\n",
    "#Time complexity: O(n)\n",
    "#space complexity: O(1)"
   ]
  },
  {
   "cell_type": "code",
   "execution_count": null,
   "metadata": {},
   "outputs": [],
   "source": []
  }
 ],
 "metadata": {
  "kernelspec": {
   "display_name": "Python 3",
   "language": "python",
   "name": "python3"
  },
  "language_info": {
   "codemirror_mode": {
    "name": "ipython",
    "version": 3
   },
   "file_extension": ".py",
   "mimetype": "text/x-python",
   "name": "python",
   "nbconvert_exporter": "python",
   "pygments_lexer": "ipython3",
   "version": "3.7.7"
  }
 },
 "nbformat": 4,
 "nbformat_minor": 4
}
