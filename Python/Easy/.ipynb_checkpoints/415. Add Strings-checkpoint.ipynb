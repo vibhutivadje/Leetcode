{
 "cells": [
  {
   "cell_type": "markdown",
   "metadata": {},
   "source": [
    "# Problem"
   ]
  },
  {
   "cell_type": "markdown",
   "metadata": {},
   "source": [
    "https://leetcode.com/problems/add-strings/"
   ]
  },
  {
   "cell_type": "markdown",
   "metadata": {},
   "source": [
    "Given two non-negative integers, num1 and num2 represented as string, return the sum of num1 and num2 as a string.\n",
    "\n"
   ]
  },
  {
   "cell_type": "markdown",
   "metadata": {},
   "source": [
    "You must solve the problem without using any built-in library for handling large integers (such as BigInteger). You must also not convert the inputs to integers directly.\n",
    "\n"
   ]
  },
  {
   "cell_type": "markdown",
   "metadata": {},
   "source": [
    "Example 1:<br>\n",
    "\n",
    "Input: num1 = \"11\", num2 = \"123\"<br>\n",
    "Output: \"134\"<br>"
   ]
  },
  {
   "cell_type": "markdown",
   "metadata": {},
   "source": [
    "Example 2:<br>\n",
    "\n",
    "Input: num1 = \"456\", num2 = \"77\"<br>\n",
    "Output: \"533\"<br>"
   ]
  },
  {
   "cell_type": "markdown",
   "metadata": {},
   "source": [
    "Example 3:<br>\n",
    "\n",
    "Input: num1 = \"0\", num2 = \"0\"<br>\n",
    "Output: \"0\"<br>"
   ]
  },
  {
   "cell_type": "markdown",
   "metadata": {},
   "source": [
    "# Solution1:"
   ]
  },
  {
   "cell_type": "code",
   "execution_count": 3,
   "metadata": {},
   "outputs": [
    {
     "data": {
      "text/plain": [
       "'533'"
      ]
     },
     "execution_count": 3,
     "metadata": {},
     "output_type": "execute_result"
    }
   ],
   "source": [
    "def addStrings(num1, num2):\n",
    "    i = len(num1)-1\n",
    "    j = len(num2)-1\n",
    "    carry = 0\n",
    "    res = ''\n",
    "    while i>=0 or j>=0:\n",
    "        if i>=0: #when length of array is different\n",
    "            carry += int(num1[i])\n",
    "            i =i-1\n",
    "        if j>=0: #check each array\n",
    "            carry += int(num2[j])\n",
    "            j =j-1\n",
    "        \n",
    "        res += str(carry%10)\n",
    "        carry = carry//10\n",
    "    return res[::-1]\n",
    "        \n",
    "# addStrings(num1='11', num2='123')\n",
    "addStrings(num1='456', num2='77')"
   ]
  },
  {
   "cell_type": "code",
   "execution_count": null,
   "metadata": {},
   "outputs": [],
   "source": [
    "str(4%10)"
   ]
  },
  {
   "cell_type": "code",
   "execution_count": null,
   "metadata": {},
   "outputs": [],
   "source": [
    "4//10"
   ]
  },
  {
   "cell_type": "code",
   "execution_count": null,
   "metadata": {},
   "outputs": [],
   "source": []
  }
 ],
 "metadata": {
  "kernelspec": {
   "display_name": "Python 3",
   "language": "python",
   "name": "python3"
  },
  "language_info": {
   "codemirror_mode": {
    "name": "ipython",
    "version": 3
   },
   "file_extension": ".py",
   "mimetype": "text/x-python",
   "name": "python",
   "nbconvert_exporter": "python",
   "pygments_lexer": "ipython3",
   "version": "3.7.7"
  }
 },
 "nbformat": 4,
 "nbformat_minor": 4
}
