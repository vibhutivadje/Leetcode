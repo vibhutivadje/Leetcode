{
 "cells": [
  {
   "cell_type": "markdown",
   "metadata": {},
   "source": [
    "# Problem"
   ]
  },
  {
   "cell_type": "code",
   "execution_count": null,
   "metadata": {},
   "outputs": [],
   "source": []
  },
  {
   "cell_type": "code",
   "execution_count": 11,
   "metadata": {},
   "outputs": [
    {
     "name": "stdout",
     "output_type": "stream",
     "text": [
      "3\n",
      "32\n",
      "321\n"
     ]
    },
    {
     "data": {
      "text/plain": [
       "-321"
      ]
     },
     "execution_count": 11,
     "metadata": {},
     "output_type": "execute_result"
    }
   ],
   "source": [
    "def reverse_integer(x):\n",
    "    \n",
    "    new_res = \"\"\n",
    "    remainder = 0\n",
    "    neg = False\n",
    "    \n",
    "    if x < 0:\n",
    "        neg = True\n",
    "        x *= -1\n",
    "        \n",
    "    for i in range(len(str(x))):\n",
    "        new_res += str(x%10)\n",
    "        print(new_res)\n",
    "        remainder = x//10\n",
    "        x = remainder\n",
    "        \n",
    "    if neg:\n",
    "        return int(new_res)*-1\n",
    "    else: \n",
    "        return int(new_res)\n",
    "    \n",
    "# reverse_integer(x = 123)\n",
    "reverse_integer(x = -123)"
   ]
  },
  {
   "cell_type": "code",
   "execution_count": null,
   "metadata": {},
   "outputs": [],
   "source": []
  },
  {
   "cell_type": "code",
   "execution_count": null,
   "metadata": {},
   "outputs": [],
   "source": []
  }
 ],
 "metadata": {
  "kernelspec": {
   "display_name": "Python 3",
   "language": "python",
   "name": "python3"
  },
  "language_info": {
   "codemirror_mode": {
    "name": "ipython",
    "version": 3
   },
   "file_extension": ".py",
   "mimetype": "text/x-python",
   "name": "python",
   "nbconvert_exporter": "python",
   "pygments_lexer": "ipython3",
   "version": "3.7.7"
  }
 },
 "nbformat": 4,
 "nbformat_minor": 4
}
