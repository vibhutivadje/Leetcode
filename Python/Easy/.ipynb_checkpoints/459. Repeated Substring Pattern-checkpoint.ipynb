{
 "cells": [
  {
   "cell_type": "markdown",
   "metadata": {},
   "source": [
    "# Problem"
   ]
  },
  {
   "cell_type": "markdown",
   "metadata": {},
   "source": [
    "https://leetcode.com/problems/repeated-substring-pattern/"
   ]
  },
  {
   "cell_type": "markdown",
   "metadata": {},
   "source": [
    "Given a string s, check if it can be constructed by taking a substring of it and appending multiple copies of the substring together.\n",
    "\n",
    " \n",
    "\n"
   ]
  },
  {
   "cell_type": "markdown",
   "metadata": {},
   "source": [
    "Example 1:<br>\n",
    "\n",
    "Input: s = \"abab\"<br>\n",
    "Output: true<br>\n",
    "Explanation: It is the substring \"ab\" twice.<br>"
   ]
  },
  {
   "cell_type": "markdown",
   "metadata": {},
   "source": [
    "Example 2:<br>\n",
    "\n",
    "Input: s = \"aba\"<br>\n",
    "Output: false<br>"
   ]
  },
  {
   "cell_type": "markdown",
   "metadata": {},
   "source": [
    "Example 3:<br>\n",
    "\n",
    "Input: s = \"abcabcabcabc\"<br>\n",
    "Output: true<br>\n",
    "Explanation: It is the substring \"abc\" four times or the substring \"abcabc\" twice.<br>\n"
   ]
  },
  {
   "cell_type": "markdown",
   "metadata": {},
   "source": [
    "# Solution1:"
   ]
  },
  {
   "cell_type": "code",
   "execution_count": 14,
   "metadata": {},
   "outputs": [
    {
     "data": {
      "text/plain": [
       "True"
      ]
     },
     "execution_count": 14,
     "metadata": {},
     "output_type": "execute_result"
    }
   ],
   "source": [
    "def repeatedSubstringPattern(s=\"abab\"):\n",
    "    N = len(s)\n",
    "    for i in range(1, N//2+1):\n",
    "        if N % i == 0 and s[:i]* (N//i) == s:\n",
    "            return True\n",
    "    return False\n",
    "repeatedSubstringPattern(s=\"abcabcabcabc\")"
   ]
  },
  {
   "cell_type": "code",
   "execution_count": null,
   "metadata": {},
   "outputs": [],
   "source": []
  }
 ],
 "metadata": {
  "kernelspec": {
   "display_name": "Python 3",
   "language": "python",
   "name": "python3"
  },
  "language_info": {
   "codemirror_mode": {
    "name": "ipython",
    "version": 3
   },
   "file_extension": ".py",
   "mimetype": "text/x-python",
   "name": "python",
   "nbconvert_exporter": "python",
   "pygments_lexer": "ipython3",
   "version": "3.7.7"
  }
 },
 "nbformat": 4,
 "nbformat_minor": 4
}
