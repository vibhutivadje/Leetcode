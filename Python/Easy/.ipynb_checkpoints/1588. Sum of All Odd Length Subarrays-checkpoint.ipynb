{
 "cells": [
  {
   "cell_type": "markdown",
   "metadata": {},
   "source": [
    "# Problem"
   ]
  },
  {
   "cell_type": "markdown",
   "metadata": {},
   "source": [
    "https://leetcode.com/problems/sum-of-all-odd-length-subarrays/"
   ]
  },
  {
   "cell_type": "markdown",
   "metadata": {},
   "source": [
    "Given an array of positive integers arr, calculate the sum of all possible odd-length subarrays.\n",
    "\n",
    "A subarray is a contiguous subsequence of the array.\n",
    "\n",
    "Return the sum of all odd-length subarrays of arr.\n",
    "\n"
   ]
  },
  {
   "cell_type": "markdown",
   "metadata": {},
   "source": [
    "# Example 1:<br>\n",
    "\n",
    "Input: arr = [1,4,2,5,3]<br>\n",
    "Output: 58<br>\n",
    "Explanation: The odd-length subarrays of arr and their sums are:<br>\n",
    "[1] = 1<br>\n",
    "[4] = 4<br>\n",
    "[2] = 2<br>\n",
    "[5] = 5<br>\n",
    "[3] = 3<br>\n",
    "[1,4,2] = 7<br>\n",
    "[4,2,5] = 11<br>\n",
    "[2,5,3] = 10<br>\n",
    "[1,4,2,5,3] = 15<br>\n",
    "If we add all these together we get 1 + 4 + 2 + 5 + 3 + 7 + 11 + 10 + 15 = 58<br>"
   ]
  },
  {
   "cell_type": "markdown",
   "metadata": {},
   "source": [
    "# Example 2:<br>\n",
    "\n",
    "Input: arr = [1,2]<br>\n",
    "Output: 3<br>\n",
    "Explanation: There are only 2 subarrays of odd length, [1] and [2]. Their sum is 3.<br>"
   ]
  },
  {
   "cell_type": "markdown",
   "metadata": {},
   "source": [
    "# Example 3:<br>\n",
    "\n",
    "Input: arr = [10,11,12]<br>\n",
    "Output: 66<br>"
   ]
  },
  {
   "cell_type": "markdown",
   "metadata": {},
   "source": [
    "# Solution1:"
   ]
  },
  {
   "cell_type": "code",
   "execution_count": 18,
   "metadata": {},
   "outputs": [
    {
     "data": {
      "text/plain": [
       "3"
      ]
     },
     "execution_count": 18,
     "metadata": {},
     "output_type": "execute_result"
    }
   ],
   "source": [
    "def sumOddLengthSubarrays(arr):\n",
    "     \n",
    "    if arr is None:\n",
    "        return 0\n",
    "    \n",
    "    new_sum = 0\n",
    "\n",
    "    for i in range(len(arr)):\n",
    "        for j in range(i, len(arr)):\n",
    "            if len(arr[i:j+1])%2==1:\n",
    "                new_sum = new_sum + sum(arr[i:j+1])\n",
    "\n",
    "    return new_sum\n",
    "\n",
    "# sumOddLengthSubarrays(arr = [10,11,12])\n",
    "# sumOddLengthSubarrays(arr = [1,4,2,5,3])\n",
    "sumOddLengthSubarrays(arr = [1,2])\n",
    "\n",
    "#time complexity: O(n-square)\n",
    "#space complexity: O(n)"
   ]
  },
  {
   "cell_type": "markdown",
   "metadata": {},
   "source": [
    "# Solution2: Optimised Solution"
   ]
  },
  {
   "cell_type": "code",
   "execution_count": 19,
   "metadata": {},
   "outputs": [
    {
     "data": {
      "text/plain": [
       "66"
      ]
     },
     "execution_count": 19,
     "metadata": {},
     "output_type": "execute_result"
    }
   ],
   "source": [
    "def sumOddLengthSubarrays(arr):\n",
    "    res = 0; freq = 0; n = len(arr)\n",
    "    for i in range(n):\n",
    "        freq = freq-(i+1)//2+(n-i+1)//2\n",
    "        res += freq*arr[i]\n",
    "    return res\n",
    "sumOddLengthSubarrays(arr = [10,11,12])"
   ]
  }
 ],
 "metadata": {
  "kernelspec": {
   "display_name": "Python 3",
   "language": "python",
   "name": "python3"
  },
  "language_info": {
   "codemirror_mode": {
    "name": "ipython",
    "version": 3
   },
   "file_extension": ".py",
   "mimetype": "text/x-python",
   "name": "python",
   "nbconvert_exporter": "python",
   "pygments_lexer": "ipython3",
   "version": "3.7.7"
  }
 },
 "nbformat": 4,
 "nbformat_minor": 4
}
