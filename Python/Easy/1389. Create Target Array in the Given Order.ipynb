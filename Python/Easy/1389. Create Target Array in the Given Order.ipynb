{
 "cells": [
  {
   "cell_type": "markdown",
   "metadata": {},
   "source": [
    "# Problem"
   ]
  },
  {
   "cell_type": "markdown",
   "metadata": {},
   "source": [
    "https://leetcode.com/problems/create-target-array-in-the-given-order/"
   ]
  },
  {
   "cell_type": "markdown",
   "metadata": {},
   "source": [
    "Given two arrays of integers nums and index. Your task is to create target array under the following rules:<br>\n",
    "\n",
    "Initially target array is empty.<br>\n",
    "From left to right read nums[i] and index[i], insert at index index[i] the value nums[i] in target array.<br>\n",
    "Repeat the previous step until there are no elements to read in nums and index.<br>\n",
    "Return the target array.<br>\n",
    "\n",
    "It is guaranteed that the insertion operations will be valid.<br>"
   ]
  },
  {
   "cell_type": "markdown",
   "metadata": {},
   "source": [
    "Example 1: <br>\n",
    "\n",
    "Input: nums = [0,1,2,3,4], index = [0,1,2,2,1]<br>\n",
    "Output: [0,4,1,3,2]<br>\n",
    "Explanation:<br>\n",
    "nums       index     target<br>\n",
    "0            0        [0]<br>\n",
    "1            1        [0,1]<br>\n",
    "2            2        [0,1,2]<br>\n",
    "3            2        [0,1,3,2]<br>\n",
    "4            1        [0,4,1,3,2]<br>"
   ]
  },
  {
   "cell_type": "markdown",
   "metadata": {},
   "source": [
    "# Solution1: without insert function"
   ]
  },
  {
   "cell_type": "code",
   "execution_count": null,
   "metadata": {},
   "outputs": [],
   "source": []
  },
  {
   "cell_type": "markdown",
   "metadata": {},
   "source": [
    "# Solution2: Using insert function"
   ]
  },
  {
   "cell_type": "code",
   "execution_count": 9,
   "metadata": {},
   "outputs": [
    {
     "data": {
      "text/plain": [
       "[0, 4, 1, 3, 2]"
      ]
     },
     "execution_count": 9,
     "metadata": {},
     "output_type": "execute_result"
    }
   ],
   "source": [
    "def createTargetArray(nums, index):\n",
    "    \n",
    "    #base condition\n",
    "    if len(nums)<1 or len(index)<1:\n",
    "        return -1\n",
    "    elif len(nums)!= len(index):\n",
    "        return -1\n",
    "    \n",
    "    target = []\n",
    "   \n",
    "    for i in range(len(index)):\n",
    "        target.insert(index[i], nums[i])\n",
    "    \n",
    "    return target\n",
    "    \n",
    "\n",
    "\n",
    "createTargetArray(nums=[0,1,2,3,4], index = [0,1,2,2,1])"
   ]
  },
  {
   "cell_type": "code",
   "execution_count": null,
   "metadata": {},
   "outputs": [],
   "source": []
  }
 ],
 "metadata": {
  "kernelspec": {
   "display_name": "Python 3",
   "language": "python",
   "name": "python3"
  },
  "language_info": {
   "codemirror_mode": {
    "name": "ipython",
    "version": 3
   },
   "file_extension": ".py",
   "mimetype": "text/x-python",
   "name": "python",
   "nbconvert_exporter": "python",
   "pygments_lexer": "ipython3",
   "version": "3.7.7"
  }
 },
 "nbformat": 4,
 "nbformat_minor": 4
}
