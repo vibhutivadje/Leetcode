{
 "cells": [
  {
   "cell_type": "code",
   "execution_count": null,
   "metadata": {},
   "outputs": [],
   "source": []
  },
  {
   "cell_type": "code",
   "execution_count": null,
   "metadata": {},
   "outputs": [],
   "source": []
  },
  {
   "cell_type": "markdown",
   "metadata": {},
   "source": [
    "Example 1:<br>\n",
    "\n",
    "Input: s = \"egg\", t = \"add\"<br>\n",
    "Output: true<br>\n"
   ]
  },
  {
   "cell_type": "markdown",
   "metadata": {},
   "source": [
    "Example 2:<br>\n",
    "\n",
    "Input: s = \"foo\", t = \"bar\"<br>\n",
    "Output: false<br>"
   ]
  },
  {
   "cell_type": "markdown",
   "metadata": {},
   "source": [
    "Example 3:<br>\n",
    "\n",
    "Input: s = \"paper\", t = \"title\"<br>\n",
    "Output: true<br>"
   ]
  },
  {
   "cell_type": "markdown",
   "metadata": {},
   "source": [
    "## Solution1:"
   ]
  },
  {
   "cell_type": "code",
   "execution_count": 9,
   "metadata": {},
   "outputs": [
    {
     "data": {
      "text/plain": [
       "False"
      ]
     },
     "execution_count": 9,
     "metadata": {},
     "output_type": "execute_result"
    }
   ],
   "source": [
    "def isIsomorphic(s,t):\n",
    "    \n",
    "    #base condition\n",
    "    if len(s)!=len(t):\n",
    "        return False\n",
    "    \n",
    "    s_map = {}\n",
    "    t_map = {}\n",
    "    #traverse through the strings\n",
    "    for i in range(len(s)):\n",
    "        a = s[i]\n",
    "        b = t[i]\n",
    "        \n",
    "        if a not in s_map:\n",
    "            s_map[a] = b\n",
    "        else:\n",
    "            if s_map[a] != b:\n",
    "                return False\n",
    "            \n",
    "        if b not in t_map:\n",
    "            t_map[b] = a\n",
    "        else:\n",
    "            if t_map[b] != a:\n",
    "                return False\n",
    "    return True\n",
    "    \n",
    "# isIsomorphic(s = \"egg\", t = \"add\")\n",
    "# isIsomorphic(s = \"paper\", t = \"title\")\n",
    "isIsomorphic(s = \"foo\", t = \"bar\")\n",
    "\n",
    "#time complexity: O(n)\n",
    "#space complexity: O(1)"
   ]
  },
  {
   "cell_type": "code",
   "execution_count": null,
   "metadata": {},
   "outputs": [],
   "source": []
  }
 ],
 "metadata": {
  "kernelspec": {
   "display_name": "Python 3",
   "language": "python",
   "name": "python3"
  },
  "language_info": {
   "codemirror_mode": {
    "name": "ipython",
    "version": 3
   },
   "file_extension": ".py",
   "mimetype": "text/x-python",
   "name": "python",
   "nbconvert_exporter": "python",
   "pygments_lexer": "ipython3",
   "version": "3.7.7"
  }
 },
 "nbformat": 4,
 "nbformat_minor": 4
}
