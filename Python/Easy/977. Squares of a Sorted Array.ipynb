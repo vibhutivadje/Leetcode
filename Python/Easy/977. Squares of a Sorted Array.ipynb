{
 "cells": [
  {
   "cell_type": "markdown",
   "metadata": {},
   "source": [
    "# Problem:\n",
    "    "
   ]
  },
  {
   "cell_type": "markdown",
   "metadata": {},
   "source": [
    "Given an integer array nums sorted in non-decreasing order, return an array of the squares of each number sorted in non-decreasing order."
   ]
  },
  {
   "cell_type": "markdown",
   "metadata": {},
   "source": [
    "<B>Example 1:</B>\n",
    "\n",
    "Input: nums = [-4,-1,0,3,10]<br>\n",
    "Output: [0,1,9,16,100]<br>\n",
    "Explanation: After squaring, the array becomes [16,1,0,9,100].<br>\n",
    "After sorting, it becomes [0,1,9,16,100].<br>"
   ]
  },
  {
   "cell_type": "markdown",
   "metadata": {},
   "source": [
    "<B>Example 2:</B>\n",
    "\n",
    "Input: nums = [-7,-3,2,3,11]<br>\n",
    "Output: [4,9,9,49,121]<br>"
   ]
  },
  {
   "cell_type": "code",
   "execution_count": 19,
   "metadata": {},
   "outputs": [
    {
     "data": {
      "text/plain": [
       "[0, 1, 9, 16, 100]"
      ]
     },
     "execution_count": 19,
     "metadata": {},
     "output_type": "execute_result"
    }
   ],
   "source": [
    "def sortedSquares(nums):\n",
    "\n",
    "    ss = len(nums)\n",
    "    res = [0]*ss\n",
    "    l = 0\n",
    "    r = ss-1\n",
    "    \n",
    "    for i in range(len(nums)-1,-1,-1):\n",
    "        if abs(nums[l])<abs(nums[r]):\n",
    "            res[i] = nums[r]**2\n",
    "            r-=1 \n",
    "        else:\n",
    "            res[i] = nums[l]**2\n",
    "            l+=1\n",
    "    \n",
    "    return res\n",
    "\n",
    "sortedSquares(nums = [-4,-1,0,3,10])"
   ]
  },
  {
   "cell_type": "code",
   "execution_count": null,
   "metadata": {},
   "outputs": [],
   "source": []
  }
 ],
 "metadata": {
  "kernelspec": {
   "display_name": "Python 3",
   "language": "python",
   "name": "python3"
  },
  "language_info": {
   "codemirror_mode": {
    "name": "ipython",
    "version": 3
   },
   "file_extension": ".py",
   "mimetype": "text/x-python",
   "name": "python",
   "nbconvert_exporter": "python",
   "pygments_lexer": "ipython3",
   "version": "3.7.7"
  }
 },
 "nbformat": 4,
 "nbformat_minor": 4
}
