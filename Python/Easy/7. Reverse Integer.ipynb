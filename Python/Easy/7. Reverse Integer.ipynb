{
 "cells": [
  {
   "cell_type": "markdown",
   "metadata": {},
   "source": [
    "# Problem"
   ]
  },
  {
   "cell_type": "markdown",
   "metadata": {},
   "source": [
    "https://leetcode.com/problems/reverse-integer/"
   ]
  },
  {
   "cell_type": "markdown",
   "metadata": {},
   "source": [
    "Given a signed 32-bit integer x, return x with its digits reversed. If reversing x causes the value to go outside the signed 32-bit integer range [-231, 231 - 1], then return 0.\n",
    "\n",
    "Assume the environment does not allow you to store 64-bit integers (signed or unsigned)."
   ]
  },
  {
   "cell_type": "markdown",
   "metadata": {},
   "source": [
    "Example 1:<br>\n",
    "\n",
    "Input: x = 123<br>\n",
    "Output: 321<br>"
   ]
  },
  {
   "cell_type": "markdown",
   "metadata": {},
   "source": [
    "Example 2:<br>\n",
    "\n",
    "Input: x = -123<br>\n",
    "Output: -321<br>"
   ]
  },
  {
   "cell_type": "markdown",
   "metadata": {},
   "source": [
    "Example 3:<br>\n",
    "\n",
    "Input: x = 120<br>\n",
    "Output: 21<br>"
   ]
  },
  {
   "cell_type": "markdown",
   "metadata": {},
   "source": [
    "Example 4:<br>\n",
    "\n",
    "Input: x = 0<br>\n",
    "Output: 0<br>"
   ]
  },
  {
   "cell_type": "markdown",
   "metadata": {},
   "source": [
    "# Solution1:"
   ]
  },
  {
   "cell_type": "code",
   "execution_count": 13,
   "metadata": {},
   "outputs": [
    {
     "data": {
      "text/plain": [
       "21"
      ]
     },
     "execution_count": 13,
     "metadata": {},
     "output_type": "execute_result"
    }
   ],
   "source": [
    "def reverse_integer(x):\n",
    "    \n",
    "    new_res = \"\"\n",
    "    remainder = 0\n",
    "    neg = False\n",
    "    \n",
    "    if x < 0:\n",
    "        neg = True\n",
    "        x *= -1\n",
    "        \n",
    "    for i in range(len(str(x))):\n",
    "        new_res += str(x%10) #string addition\n",
    "        remainder = x//10\n",
    "        x = remainder\n",
    "        \n",
    "    if neg:\n",
    "        return int(new_res)*-1\n",
    "    else: \n",
    "        return int(new_res)\n",
    "    \n",
    "# reverse_integer(x = 123)\n",
    "#reverse_integer(x = -123)\n",
    "reverse_integer(x = 120)\n",
    "\n",
    "#Time complexity: 0(n)\n",
    "#Space complexity: O(1)"
   ]
  },
  {
   "cell_type": "markdown",
   "metadata": {},
   "source": [
    "# Solution2:"
   ]
  },
  {
   "cell_type": "code",
   "execution_count": 3,
   "metadata": {},
   "outputs": [
    {
     "data": {
      "text/plain": [
       "-321"
      ]
     },
     "execution_count": 3,
     "metadata": {},
     "output_type": "execute_result"
    }
   ],
   "source": [
    "import math\n",
    "def reverseinteger(num):\n",
    "    rev = 0\n",
    "    neg = False\n",
    "    \n",
    "    if(num<0):\n",
    "        neg = True\n",
    "        num*=-1\n",
    "        \n",
    "    while(num>0):\n",
    "        rev = (rev*10)+(num%10) #integer addition\n",
    "#         rev += num%10\n",
    "        num = math.floor(num/10)\n",
    "#         num = num//10\n",
    "        \n",
    "    if(num > (2**31-1)):\n",
    "        return 0\n",
    "        \n",
    "    if(neg==True):\n",
    "        return rev*-1\n",
    "    else:\n",
    "        return rev\n",
    "    \n",
    "reverseinteger(num=-123)\n"
   ]
  },
  {
   "cell_type": "code",
   "execution_count": null,
   "metadata": {},
   "outputs": [],
   "source": []
  }
 ],
 "metadata": {
  "kernelspec": {
   "display_name": "Python 3",
   "language": "python",
   "name": "python3"
  },
  "language_info": {
   "codemirror_mode": {
    "name": "ipython",
    "version": 3
   },
   "file_extension": ".py",
   "mimetype": "text/x-python",
   "name": "python",
   "nbconvert_exporter": "python",
   "pygments_lexer": "ipython3",
   "version": "3.7.7"
  }
 },
 "nbformat": 4,
 "nbformat_minor": 4
}
