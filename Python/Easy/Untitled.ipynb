{
 "cells": [
  {
   "cell_type": "code",
   "execution_count": null,
   "metadata": {},
   "outputs": [],
   "source": []
  },
  {
   "cell_type": "code",
   "execution_count": null,
   "metadata": {},
   "outputs": [],
   "source": []
  },
  {
   "cell_type": "markdown",
   "metadata": {},
   "source": [
    "<br>Example 1:</br>\n",
    "\n",
    "<br>Input: s = \"Hello World\"</br>\n",
    "<br>Output: 5</br>\n",
    "<br>Explanation: The last word is \"World\" with length 5.</br>"
   ]
  },
  {
   "cell_type": "code",
   "execution_count": 17,
   "metadata": {},
   "outputs": [
    {
     "data": {
      "text/plain": [
       "5"
      ]
     },
     "execution_count": 17,
     "metadata": {},
     "output_type": "execute_result"
    }
   ],
   "source": [
    "def lastwordlen(strs):\n",
    "    \n",
    "    ss = strs.split(' ')\n",
    "    n_ss = []\n",
    "    for i in ss:\n",
    "        if i!='':\n",
    "            n_ss.append(i)\n",
    "    return len(n_ss[-1])\n",
    "    \n",
    "lastwordlen('Hello World')\n",
    "# lastwordlen('luffy is still joyboy')\n",
    "# lastwordlen(\"   fly me   to   the moon  \")\n",
    "\n"
   ]
  },
  {
   "cell_type": "code",
   "execution_count": null,
   "metadata": {},
   "outputs": [],
   "source": []
  }
 ],
 "metadata": {
  "kernelspec": {
   "display_name": "Python 3",
   "language": "python",
   "name": "python3"
  },
  "language_info": {
   "codemirror_mode": {
    "name": "ipython",
    "version": 3
   },
   "file_extension": ".py",
   "mimetype": "text/x-python",
   "name": "python",
   "nbconvert_exporter": "python",
   "pygments_lexer": "ipython3",
   "version": "3.7.7"
  }
 },
 "nbformat": 4,
 "nbformat_minor": 4
}
