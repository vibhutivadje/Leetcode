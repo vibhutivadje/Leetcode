{
 "cells": [
  {
   "cell_type": "markdown",
   "metadata": {},
   "source": [
    "# Problem"
   ]
  },
  {
   "cell_type": "markdown",
   "metadata": {},
   "source": [
    "https://leetcode.com/problems/find-numbers-with-even-number-of-digits/"
   ]
  },
  {
   "cell_type": "markdown",
   "metadata": {},
   "source": [
    "Given an array nums of integers, return how many of them contain an even number of digits.\n",
    " "
   ]
  },
  {
   "cell_type": "markdown",
   "metadata": {},
   "source": [
    "Example 1: <br>\n",
    "\n",
    "Input: nums = [12,345,2,6,7896]<br>\n",
    "Output: 2<br>\n",
    "Explanation: <br>\n",
    "12 contains 2 digits (even number of digits). <br>\n",
    "345 contains 3 digits (odd number of digits). <br>\n",
    "2 contains 1 digit (odd number of digits). <br>\n",
    "6 contains 1 digit (odd number of digits). <br>\n",
    "7896 contains 4 digits (even number of digits). <br>\n",
    "Therefore only 12 and 7896 contain an even number of digits.<br>"
   ]
  },
  {
   "cell_type": "markdown",
   "metadata": {},
   "source": [
    "Example 2: <br>\n",
    "\n",
    "Input: nums = [555,901,482,1771] <br>\n",
    "Output: 1 <br>\n",
    "Explanation: <br>\n",
    "Only 1771 contains an even number of digits. <br>\n",
    " "
   ]
  },
  {
   "cell_type": "markdown",
   "metadata": {},
   "source": [
    "# Solution1:"
   ]
  },
  {
   "cell_type": "code",
   "execution_count": 3,
   "metadata": {},
   "outputs": [
    {
     "data": {
      "text/plain": [
       "1"
      ]
     },
     "execution_count": 3,
     "metadata": {},
     "output_type": "execute_result"
    }
   ],
   "source": [
    "def findEvenNumbers(nums):\n",
    "    \n",
    "    even_cnt = 0\n",
    "    \n",
    "    for i in nums:\n",
    "        if len(str(i))%2==0:\n",
    "            even_cnt +=1\n",
    "    return even_cnt\n",
    "    \n",
    "#findEvenNumbers(nums = [12,345,2,6,7896])\n",
    "findEvenNumbers(nums = [555,901,482,1771])\n",
    "\n",
    "#Time complexity: O(n)"
   ]
  },
  {
   "cell_type": "code",
   "execution_count": null,
   "metadata": {},
   "outputs": [],
   "source": []
  }
 ],
 "metadata": {
  "kernelspec": {
   "display_name": "Python 3",
   "language": "python",
   "name": "python3"
  },
  "language_info": {
   "codemirror_mode": {
    "name": "ipython",
    "version": 3
   },
   "file_extension": ".py",
   "mimetype": "text/x-python",
   "name": "python",
   "nbconvert_exporter": "python",
   "pygments_lexer": "ipython3",
   "version": "3.7.7"
  }
 },
 "nbformat": 4,
 "nbformat_minor": 4
}
