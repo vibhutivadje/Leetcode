{
 "cells": [
  {
   "cell_type": "markdown",
   "metadata": {},
   "source": [
    "# Problem"
   ]
  },
  {
   "cell_type": "markdown",
   "metadata": {},
   "source": [
    "Given an integer x, return true if x is palindrome integer.\n",
    "\n",
    "An integer is a palindrome when it reads the same backward as forward. For example, 121 is palindrome while 123 is not."
   ]
  },
  {
   "cell_type": "markdown",
   "metadata": {},
   "source": [
    "<br><b>Example 1:</b></br>\n",
    "<br>Input: x = 121</br>\n",
    "<br>Output: true<br>"
   ]
  },
  {
   "cell_type": "markdown",
   "metadata": {},
   "source": [
    "<br><b>Example 2:</b></br>\n",
    "<br>Input: x = -121</br>\n",
    "<br>Output: false</br>\n",
    "<br>Explanation: From left to right, it reads -121. From right to left, it becomes 121-. \n",
    "    Therefore it is not a palindrome.</br>"
   ]
  },
  {
   "cell_type": "markdown",
   "metadata": {},
   "source": [
    "<br><b>Example 3:</b></br>\n",
    "<br>Input: x = 10</br>\n",
    "<br>Output: false</br>\n",
    "<br>Explanation: Reads 01 from right to left. Therefore it is not a palindrome.</br>"
   ]
  },
  {
   "cell_type": "markdown",
   "metadata": {},
   "source": [
    "<br><b>Example 4:</b></br>\n",
    "<br>Input: x = -101</br>\n",
    "<br>Output: false</br>"
   ]
  },
  {
   "cell_type": "markdown",
   "metadata": {},
   "source": [
    "# Solution 1:"
   ]
  },
  {
   "cell_type": "code",
   "execution_count": 11,
   "metadata": {},
   "outputs": [
    {
     "data": {
      "text/plain": [
       "False"
      ]
     },
     "execution_count": 11,
     "metadata": {},
     "output_type": "execute_result"
    }
   ],
   "source": [
    "def isPalindrome(x):\n",
    "        \n",
    "    if x < 0:\n",
    "        return False\n",
    "    \n",
    "    def revinteger(x):\n",
    "        rev = 0\n",
    "        while x!=0:\n",
    "            rev = rev*10+ x%10\n",
    "            x = x//10\n",
    "        print(rev)\n",
    "        return rev \n",
    "    \n",
    "    if x == revinteger(x):\n",
    "        return True\n",
    "    else:\n",
    "        return False\n",
    "    \n",
    "# isPalindrome(121)\n",
    "isPalindrome(-121)\n",
    "#time complexity: O(n)\n",
    "#space complexity: O(1)"
   ]
  },
  {
   "cell_type": "markdown",
   "metadata": {},
   "source": [
    "# Solution 2: Converting to string"
   ]
  },
  {
   "cell_type": "code",
   "execution_count": 12,
   "metadata": {},
   "outputs": [
    {
     "data": {
      "text/plain": [
       "True"
      ]
     },
     "execution_count": 12,
     "metadata": {},
     "output_type": "execute_result"
    }
   ],
   "source": [
    "def isPalindrome(x):\n",
    "        \n",
    "    if x < 0:\n",
    "        return False\n",
    "    \n",
    "    ss = str(x)\n",
    "    \n",
    "    i = 0\n",
    "    j = len(ss)-1\n",
    "    \n",
    "    while i<=j:\n",
    "        if ss[i] == ss[j]:\n",
    "            i+=1\n",
    "            j-=1\n",
    "        else:\n",
    "            return False\n",
    "    return True\n",
    "    \n",
    "isPalindrome(121)\n",
    "# isPalindrome(-121)"
   ]
  },
  {
   "cell_type": "code",
   "execution_count": null,
   "metadata": {},
   "outputs": [],
   "source": []
  }
 ],
 "metadata": {
  "kernelspec": {
   "display_name": "Python 3",
   "language": "python",
   "name": "python3"
  },
  "language_info": {
   "codemirror_mode": {
    "name": "ipython",
    "version": 3
   },
   "file_extension": ".py",
   "mimetype": "text/x-python",
   "name": "python",
   "nbconvert_exporter": "python",
   "pygments_lexer": "ipython3",
   "version": "3.7.7"
  }
 },
 "nbformat": 4,
 "nbformat_minor": 4
}
