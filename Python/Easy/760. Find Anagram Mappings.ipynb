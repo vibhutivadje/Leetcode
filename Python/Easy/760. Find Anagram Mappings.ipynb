{
 "cells": [
  {
   "cell_type": "markdown",
   "metadata": {},
   "source": [
    "# Problem"
   ]
  },
  {
   "cell_type": "markdown",
   "metadata": {},
   "source": [
    "https://leetcode.com/problems/find-anagram-mappings/"
   ]
  },
  {
   "cell_type": "markdown",
   "metadata": {},
   "source": [
    "# Solution1"
   ]
  },
  {
   "cell_type": "code",
   "execution_count": 4,
   "metadata": {},
   "outputs": [
    {
     "data": {
      "text/plain": [
       "[1, 4, 3, 2, 0]"
      ]
     },
     "execution_count": 4,
     "metadata": {},
     "output_type": "execute_result"
    }
   ],
   "source": [
    "def anagramMappings(nums1, nums2):\n",
    "\n",
    "    if len(nums1)!=len(nums2):\n",
    "        return False\n",
    "    \n",
    "    d={}\n",
    "    for i in range(len(nums2)):\n",
    "        d[nums2[i]] = i\n",
    "        \n",
    "    for j in range(len(nums1)):\n",
    "        if nums1[j] in d:\n",
    "            nums1[j] = d[nums1[j]]\n",
    "    return nums1\n",
    "#     print(d)\n",
    "    \n",
    "anagramMappings(nums1 = [12, 28, 46, 32, 50], nums2 = [50, 12, 32, 46, 28])\n",
    "\n",
    "#time complexity: O(n)"
   ]
  },
  {
   "cell_type": "code",
   "execution_count": null,
   "metadata": {},
   "outputs": [],
   "source": []
  }
 ],
 "metadata": {
  "kernelspec": {
   "display_name": "Python 3",
   "language": "python",
   "name": "python3"
  },
  "language_info": {
   "codemirror_mode": {
    "name": "ipython",
    "version": 3
   },
   "file_extension": ".py",
   "mimetype": "text/x-python",
   "name": "python",
   "nbconvert_exporter": "python",
   "pygments_lexer": "ipython3",
   "version": "3.7.7"
  }
 },
 "nbformat": 4,
 "nbformat_minor": 4
}
