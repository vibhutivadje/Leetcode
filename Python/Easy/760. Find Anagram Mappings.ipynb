{
 "cells": [
  {
   "cell_type": "markdown",
   "metadata": {},
   "source": [
    "# Problem"
   ]
  },
  {
   "cell_type": "markdown",
   "metadata": {},
   "source": [
    "https://leetcode.com/problems/find-anagram-mappings/"
   ]
  },
  {
   "cell_type": "markdown",
   "metadata": {},
   "source": [
    "Given two lists nums1 and nums2, and nums2 is an anagram of nums1. nums2 is an anagram of nums1 means nums2 is made by randomizing the order of the elements in nums1.\n",
    "\n",
    "We want to find an index mapping mapping, from nums1 to nums2. A mapping mapping[i] = j means the ith element in nums1 appears in nums2 at index j.\n",
    "\n",
    "These lists nums1 and nums2 may contain duplicates. If there are multiple answers, output any of them."
   ]
  },
  {
   "cell_type": "markdown",
   "metadata": {},
   "source": [
    "For example, given\n",
    "\n",
    "nums1 = [12, 28, 46, 32, 50]\n",
    "nums2 = [50, 12, 32, 46, 28]\n",
    "\n",
    "O/P: [1, 4, 3, 2, 0]"
   ]
  },
  {
   "cell_type": "markdown",
   "metadata": {},
   "source": [
    "# Solution1"
   ]
  },
  {
   "cell_type": "code",
   "execution_count": 4,
   "metadata": {},
   "outputs": [
    {
     "data": {
      "text/plain": [
       "[1, 4, 3, 2, 0]"
      ]
     },
     "execution_count": 4,
     "metadata": {},
     "output_type": "execute_result"
    }
   ],
   "source": [
    "def anagramMappings(nums1, nums2):\n",
    "\n",
    "    if len(nums1)!=len(nums2):\n",
    "        return False\n",
    "    \n",
    "    d={}\n",
    "    for i in range(len(nums2)):\n",
    "        d[nums2[i]] = i\n",
    "        \n",
    "    for j in range(len(nums1)):\n",
    "        if nums1[j] in d:\n",
    "            nums1[j] = d[nums1[j]]\n",
    "    return nums1\n",
    "#     print(d)\n",
    "    \n",
    "anagramMappings(nums1 = [12, 28, 46, 32, 50], nums2 = [50, 12, 32, 46, 28])\n",
    "\n",
    "#time complexity: O(n)\n",
    "#space complexity: O(n)"
   ]
  },
  {
   "cell_type": "code",
   "execution_count": null,
   "metadata": {},
   "outputs": [],
   "source": []
  }
 ],
 "metadata": {
  "kernelspec": {
   "display_name": "Python 3",
   "language": "python",
   "name": "python3"
  },
  "language_info": {
   "codemirror_mode": {
    "name": "ipython",
    "version": 3
   },
   "file_extension": ".py",
   "mimetype": "text/x-python",
   "name": "python",
   "nbconvert_exporter": "python",
   "pygments_lexer": "ipython3",
   "version": "3.7.7"
  }
 },
 "nbformat": 4,
 "nbformat_minor": 4
}
