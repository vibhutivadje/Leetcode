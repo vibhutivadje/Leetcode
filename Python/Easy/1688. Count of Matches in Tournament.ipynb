{
 "cells": [
  {
   "cell_type": "markdown",
   "metadata": {},
   "source": [
    "# Problem"
   ]
  },
  {
   "cell_type": "markdown",
   "metadata": {},
   "source": [
    "https://leetcode.com/problems/count-of-matches-in-tournament/"
   ]
  },
  {
   "cell_type": "markdown",
   "metadata": {},
   "source": [
    "You are given an integer n, the number of teams in a tournament that has strange rules:\n",
    "\n",
    "If the current number of teams is even, each team gets paired with another team. A total of n / 2 matches are played, and n / 2 teams advance to the next round.\n",
    "If the current number of teams is odd, one team randomly advances in the tournament, and the rest gets paired. A total of (n - 1) / 2 matches are played, and (n - 1) / 2 + 1 teams advance to the next round.\n",
    "Return the number of matches played in the tournament until a winner is decided."
   ]
  },
  {
   "cell_type": "markdown",
   "metadata": {},
   "source": [
    "# Example 1:<br>\n",
    "\n",
    "Input: n = 7<br>\n",
    "Output: 6<br>\n",
    "\n",
    "Explanation: Details of the tournament: <br>\n",
    "- 1st Round: Teams = 7, Matches = 3, and 4 teams advance.<br>\n",
    "- 2nd Round: Teams = 4, Matches = 2, and 2 teams advance.<br>\n",
    "- 3rd Round: Teams = 2, Matches = 1, and 1 team is declared the winner.<br>\n",
    "Total number of matches = 3 + 2 + 1 = 6.<br>"
   ]
  },
  {
   "cell_type": "markdown",
   "metadata": {},
   "source": [
    "# Example 2:<br>\n",
    "\n",
    "Input: n = 14 <br>\n",
    "Output: 13 <br>\n",
    "Explanation: Details of the tournament: <br>\n",
    "- 1st Round: Teams = 14, Matches = 7, and 7 teams advance. <br>\n",
    "- 2nd Round: Teams = 7, Matches = 3, and 4 teams advance. <br>\n",
    "- 3rd Round: Teams = 4, Matches = 2, and 2 teams advance. <br>\n",
    "- 4th Round: Teams = 2, Matches = 1, and 1 team is declared the winner. <br>\n",
    "Total number of matches = 7 + 3 + 2 + 1 = 13. <br>"
   ]
  },
  {
   "cell_type": "markdown",
   "metadata": {},
   "source": [
    "# Solution1: "
   ]
  },
  {
   "cell_type": "code",
   "execution_count": 4,
   "metadata": {},
   "outputs": [
    {
     "data": {
      "text/plain": [
       "13"
      ]
     },
     "execution_count": 4,
     "metadata": {},
     "output_type": "execute_result"
    }
   ],
   "source": [
    "def numberOfMatches(n):\n",
    "        \n",
    "    matches = 0\n",
    "    while n>1:\n",
    "        if n%2 != 0:\n",
    "            matches = matches + (n-1)//2\n",
    "            n = (n-1)//2 + 1\n",
    "        else:\n",
    "            matches = matches + n//2\n",
    "            n = n//2 \n",
    "    return matches\n",
    "\n",
    "# numberOfMatches(n = 7)\n",
    "numberOfMatches(n = 14)\n",
    "\n",
    "#time complexity: O(n)\n",
    "#space complexity: O(1)"
   ]
  },
  {
   "cell_type": "code",
   "execution_count": null,
   "metadata": {},
   "outputs": [],
   "source": []
  }
 ],
 "metadata": {
  "kernelspec": {
   "display_name": "Python 3",
   "language": "python",
   "name": "python3"
  },
  "language_info": {
   "codemirror_mode": {
    "name": "ipython",
    "version": 3
   },
   "file_extension": ".py",
   "mimetype": "text/x-python",
   "name": "python",
   "nbconvert_exporter": "python",
   "pygments_lexer": "ipython3",
   "version": "3.7.7"
  }
 },
 "nbformat": 4,
 "nbformat_minor": 4
}
