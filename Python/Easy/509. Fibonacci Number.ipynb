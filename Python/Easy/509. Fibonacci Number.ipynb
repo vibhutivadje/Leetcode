{
 "cells": [
  {
   "cell_type": "markdown",
   "metadata": {},
   "source": [
    "# Problem"
   ]
  },
  {
   "cell_type": "markdown",
   "metadata": {},
   "source": [
    "https://leetcode.com/problems/fibonacci-number/"
   ]
  },
  {
   "cell_type": "markdown",
   "metadata": {},
   "source": [
    "The Fibonacci numbers, commonly denoted F(n) form a sequence, called the Fibonacci sequence, such that each number is the sum of the two preceding ones, starting from 0 and 1. That is,"
   ]
  },
  {
   "cell_type": "markdown",
   "metadata": {},
   "source": [
    "F(0) = 0, F(1) = 1 <br>\n",
    "F(n) = F(n - 1) + F(n - 2), for n > 1.<br>"
   ]
  },
  {
   "cell_type": "markdown",
   "metadata": {},
   "source": [
    "Given n, calculate F(n)."
   ]
  },
  {
   "cell_type": "markdown",
   "metadata": {},
   "source": [
    "Example 1:<br>\n",
    "\n",
    "Input: n = 2<br>\n",
    "Output: 1<br>\n",
    "Explanation: F(2) = F(1) + F(0) = 1 + 0 = 1.<br>"
   ]
  },
  {
   "cell_type": "markdown",
   "metadata": {},
   "source": [
    "Example 2:<br>\n",
    "\n",
    "Input: n = 3<br>\n",
    "Output: 2<br>\n",
    "Explanation: F(3) = F(2) + F(1) = 1 + 1 = 2.<br>"
   ]
  },
  {
   "cell_type": "markdown",
   "metadata": {},
   "source": [
    "Example 3:<br>\n",
    "\n",
    "Input: n = 4<br>\n",
    "Output: 3<br>\n",
    "Explanation: F(4) = F(3) + F(2) = 2 + 1 = 3.<br>"
   ]
  },
  {
   "cell_type": "markdown",
   "metadata": {},
   "source": [
    "# Solution 1:"
   ]
  },
  {
   "cell_type": "code",
   "execution_count": 1,
   "metadata": {},
   "outputs": [
    {
     "data": {
      "text/plain": [
       "5"
      ]
     },
     "execution_count": 1,
     "metadata": {},
     "output_type": "execute_result"
    }
   ],
   "source": [
    "def fib(n):\n",
    "    \n",
    "    if n<=1:\n",
    "        return n\n",
    "    \n",
    "    if n==2:\n",
    "        return 1\n",
    "    \n",
    "    curr = 0\n",
    "    pr1 = 1\n",
    "    pr2 = 1\n",
    "    \n",
    "    for i in range(3, n+1):\n",
    "        curr = pr1 + pr2\n",
    "        pr2 = pr1\n",
    "        pr1 = curr\n",
    "        \n",
    "    return curr\n",
    "    \n",
    "fib(n = 5)\n",
    "\n",
    "#Time complexity: O(n)\n",
    "#Space complexity: O(1)"
   ]
  },
  {
   "cell_type": "code",
   "execution_count": null,
   "metadata": {},
   "outputs": [],
   "source": []
  }
 ],
 "metadata": {
  "kernelspec": {
   "display_name": "Python 3",
   "language": "python",
   "name": "python3"
  },
  "language_info": {
   "codemirror_mode": {
    "name": "ipython",
    "version": 3
   },
   "file_extension": ".py",
   "mimetype": "text/x-python",
   "name": "python",
   "nbconvert_exporter": "python",
   "pygments_lexer": "ipython3",
   "version": "3.7.7"
  }
 },
 "nbformat": 4,
 "nbformat_minor": 4
}
