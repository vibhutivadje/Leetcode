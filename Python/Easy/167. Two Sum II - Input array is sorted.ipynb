{
 "cells": [
  {
   "cell_type": "code",
   "execution_count": null,
   "metadata": {},
   "outputs": [],
   "source": []
  },
  {
   "cell_type": "code",
   "execution_count": null,
   "metadata": {},
   "outputs": [],
   "source": []
  },
  {
   "cell_type": "code",
   "execution_count": null,
   "metadata": {},
   "outputs": [],
   "source": []
  },
  {
   "cell_type": "markdown",
   "metadata": {},
   "source": [
    "<br>Example 1:</br>\n",
    "\n",
    "<br>Input: numbers = [2,7,11,15], target = 9</br>\n",
    "<br>Output: [1,2]</br>\n",
    "<br>Explanation: The sum of 2 and 7 is 9. Therefore index1 = 1, index2 = 2.</br>\n"
   ]
  },
  {
   "cell_type": "code",
   "execution_count": null,
   "metadata": {},
   "outputs": [],
   "source": [
    "def sum2(numbers, target):\n",
    "    \n",
    "    d = {}\n",
    "    \n",
    "    for key, value in enumerate(numbers):\n",
    "        diff = target - value #value: 2 diff:7\n",
    "        print(diff)\n",
    "        \n",
    "        if diff in d:\n",
    "            return [d[diff], key]\n",
    "        else:\n",
    "            d[value] = key\n",
    "            \n",
    "#         if value not in d:\n",
    "#             d[diff] = key \n",
    "#         else:\n",
    "#             print(d[diff])\n",
    "\n",
    "        \n",
    "sum2(numbers=[2,7,11,15], target = 9)"
   ]
  },
  {
   "cell_type": "code",
   "execution_count": 20,
   "metadata": {},
   "outputs": [
    {
     "data": {
      "text/plain": [
       "[1, 2]"
      ]
     },
     "execution_count": 20,
     "metadata": {},
     "output_type": "execute_result"
    }
   ],
   "source": [
    "def sum2(numbers, target):\n",
    "    \n",
    "    if len(numbers)<2:\n",
    "        return False\n",
    "    \n",
    "    for i in range(len(numbers)):\n",
    "        for j in range(i,len(numbers)):\n",
    "            if numbers[i]+numbers[j]==target:\n",
    "                return [i+1, j+1]\n",
    "    return [i+1, j+1]\n",
    "        \n",
    "sum2(numbers=[2,7,11,15], target = 9)"
   ]
  },
  {
   "cell_type": "code",
   "execution_count": null,
   "metadata": {},
   "outputs": [],
   "source": []
  },
  {
   "cell_type": "code",
   "execution_count": null,
   "metadata": {},
   "outputs": [],
   "source": []
  }
 ],
 "metadata": {
  "kernelspec": {
   "display_name": "Python 3",
   "language": "python",
   "name": "python3"
  },
  "language_info": {
   "codemirror_mode": {
    "name": "ipython",
    "version": 3
   },
   "file_extension": ".py",
   "mimetype": "text/x-python",
   "name": "python",
   "nbconvert_exporter": "python",
   "pygments_lexer": "ipython3",
   "version": "3.7.7"
  }
 },
 "nbformat": 4,
 "nbformat_minor": 4
}
