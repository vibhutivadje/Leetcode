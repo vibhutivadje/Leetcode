{
 "cells": [
  {
   "cell_type": "code",
   "execution_count": null,
   "metadata": {},
   "outputs": [],
   "source": []
  },
  {
   "cell_type": "code",
   "execution_count": null,
   "metadata": {},
   "outputs": [],
   "source": []
  },
  {
   "cell_type": "code",
   "execution_count": null,
   "metadata": {},
   "outputs": [],
   "source": []
  },
  {
   "cell_type": "markdown",
   "metadata": {},
   "source": [
    "<br>Example 1:</br>\n",
    "\n",
    "<br>Input: numbers = [2,7,11,15], target = 9</br>\n",
    "<br>Output: [1,2]</br>\n",
    "<br>Explanation: The sum of 2 and 7 is 9. Therefore index1 = 1, index2 = 2.</br>\n"
   ]
  },
  {
   "cell_type": "code",
   "execution_count": 5,
   "metadata": {},
   "outputs": [
    {
     "name": "stdout",
     "output_type": "stream",
     "text": [
      "7\n",
      "{7: 0}\n",
      "2\n",
      "{7: 0, 2: 1}\n",
      "-2\n",
      "{7: 0, 2: 1, -2: 2}\n",
      "-6\n",
      "{7: 0, 2: 1, -2: 2, -6: 3}\n"
     ]
    },
    {
     "data": {
      "text/plain": [
       "[3, 3]"
      ]
     },
     "execution_count": 5,
     "metadata": {},
     "output_type": "execute_result"
    }
   ],
   "source": [
    "def sum2(numbers, target):\n",
    "    d = {}\n",
    "    for key, value in enumerate(numbers):\n",
    "        diff = target - value\n",
    "        print(diff)\n",
    "        if diff not in d:\n",
    "            d[diff] = key\n",
    "        else:\n",
    "            return [d[diff], key]\n",
    "        print(d)\n",
    "    return [d[diff], key]\n",
    "        \n",
    "sum2(numbers=[2,7,11,15], target = 9)"
   ]
  },
  {
   "cell_type": "code",
   "execution_count": null,
   "metadata": {},
   "outputs": [],
   "source": []
  },
  {
   "cell_type": "code",
   "execution_count": null,
   "metadata": {},
   "outputs": [],
   "source": []
  }
 ],
 "metadata": {
  "kernelspec": {
   "display_name": "Python 3",
   "language": "python",
   "name": "python3"
  },
  "language_info": {
   "codemirror_mode": {
    "name": "ipython",
    "version": 3
   },
   "file_extension": ".py",
   "mimetype": "text/x-python",
   "name": "python",
   "nbconvert_exporter": "python",
   "pygments_lexer": "ipython3",
   "version": "3.7.7"
  }
 },
 "nbformat": 4,
 "nbformat_minor": 4
}
