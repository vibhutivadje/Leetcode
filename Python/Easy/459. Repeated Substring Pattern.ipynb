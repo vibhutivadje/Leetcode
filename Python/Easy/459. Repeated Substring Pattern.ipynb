{
 "cells": [
  {
   "cell_type": "markdown",
   "metadata": {},
   "source": [
    "# Problem"
   ]
  },
  {
   "cell_type": "markdown",
   "metadata": {},
   "source": [
    "https://leetcode.com/problems/repeated-substring-pattern/"
   ]
  },
  {
   "cell_type": "markdown",
   "metadata": {},
   "source": [
    "Given a string s, check if it can be constructed by taking a substring of it and appending multiple copies of the substring together.\n",
    "\n",
    " \n",
    "\n"
   ]
  },
  {
   "cell_type": "markdown",
   "metadata": {},
   "source": [
    "Example 1:<br>\n",
    "\n",
    "Input: s = \"abab\"<br>\n",
    "Output: true<br>\n",
    "Explanation: It is the substring \"ab\" twice.<br>"
   ]
  },
  {
   "cell_type": "markdown",
   "metadata": {},
   "source": [
    "Example 2:<br>\n",
    "\n",
    "Input: s = \"aba\"<br>\n",
    "Output: false<br>"
   ]
  },
  {
   "cell_type": "markdown",
   "metadata": {},
   "source": [
    "Example 3:<br>\n",
    "\n",
    "Input: s = \"abcabcabcabc\"<br>\n",
    "Output: true<br>\n",
    "Explanation: It is the substring \"abc\" four times or the substring \"abcabc\" twice.<br>\n"
   ]
  },
  {
   "cell_type": "markdown",
   "metadata": {},
   "source": [
    "# Solution1:"
   ]
  },
  {
   "cell_type": "code",
   "execution_count": 16,
   "metadata": {},
   "outputs": [
    {
     "data": {
      "text/plain": [
       "True"
      ]
     },
     "execution_count": 16,
     "metadata": {},
     "output_type": "execute_result"
    }
   ],
   "source": [
    "def repeatedSubstringPattern(s):\n",
    "    N = len(s)\n",
    "    for i in range(1, N//2+1):\n",
    "        if N % i == 0 and s[:i]* (N//i) == s:\n",
    "            return True\n",
    "    return False\n",
    "repeatedSubstringPattern(s=\"abcabcabcabc\")\n",
    "\n",
    "#time complexity: O(n*sqrt(n))\n",
    "#space complexity: O(n)"
   ]
  },
  {
   "cell_type": "markdown",
   "metadata": {},
   "source": [
    "# Solution2:"
   ]
  },
  {
   "cell_type": "code",
   "execution_count": 17,
   "metadata": {},
   "outputs": [
    {
     "data": {
      "text/plain": [
       "True"
      ]
     },
     "execution_count": 17,
     "metadata": {},
     "output_type": "execute_result"
    }
   ],
   "source": [
    "def repeatedSubstringPattern(s):\n",
    "    return s in (s+s)[1:-1]\n",
    "repeatedSubstringPattern(s=\"abcabcabcabc\")\n",
    "\n",
    "#time complexity : O(n)\n",
    "#Space complexity: O(n)"
   ]
  },
  {
   "cell_type": "markdown",
   "metadata": {},
   "source": [
    "# Good Explanation:\n",
    "Example:\n",
    "To find if the string has a repeatable substring inside, we can create a new string by duplicating the original string.\n",
    "Ex. \"abcabc\" => \"abcabcabcabc\"\n",
    "By removing the first and last character of the new string we create the string \"bcabcabcabcab\"\n",
    "If the original string \"abcabc\" is in \"bcabcabcab\", we return true.\n",
    "\n",
    "Why it works:\n",
    "If the original string has a repeating substring, the repeating substring can be no larger than 1/2 the length of the original string. I.e \"xyxy\" would be \"xy\"\n",
    "By repeating the string and removing the first and last character of the new string, I.e \"xyxyxyxy\" => \"yxyxyx\", if the original string \"xyxy\" can be found in \"yxyxyx\", it means that \"xyxy\" has a repeating substring.\n",
    "\n",
    "However, this solution doesn't tell us what the repeating substring is, but does solve the question if it exists.\n",
    "\n"
   ]
  },
  {
   "cell_type": "code",
   "execution_count": null,
   "metadata": {},
   "outputs": [],
   "source": []
  }
 ],
 "metadata": {
  "kernelspec": {
   "display_name": "Python 3",
   "language": "python",
   "name": "python3"
  },
  "language_info": {
   "codemirror_mode": {
    "name": "ipython",
    "version": 3
   },
   "file_extension": ".py",
   "mimetype": "text/x-python",
   "name": "python",
   "nbconvert_exporter": "python",
   "pygments_lexer": "ipython3",
   "version": "3.7.7"
  }
 },
 "nbformat": 4,
 "nbformat_minor": 4
}
