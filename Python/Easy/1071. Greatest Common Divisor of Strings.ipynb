{
 "cells": [
  {
   "cell_type": "markdown",
   "metadata": {},
   "source": [
    "# Problem:"
   ]
  },
  {
   "cell_type": "markdown",
   "metadata": {},
   "source": [
    "For two strings s and t, we say \"t divides s\" if and only if s = t + ... + t  (t concatenated with itself 1 or more times)\n",
    "\n",
    "Given two strings str1 and str2, return the largest string x such that x divides both str1 and str2."
   ]
  },
  {
   "cell_type": "markdown",
   "metadata": {},
   "source": [
    "<b>Example 1:</b> <br>\n",
    "\n",
    "Input: str1 = \"ABCABC\", str2 = \"ABC\"<br>\n",
    "Output: \"ABC\"<br>"
   ]
  },
  {
   "cell_type": "markdown",
   "metadata": {},
   "source": [
    "<b>Example 2:</b><br>\n",
    "\n",
    "Input: str1 = \"ABABAB\", str2 = \"ABAB\"<br>\n",
    "Output: \"AB\"<br>"
   ]
  },
  {
   "cell_type": "markdown",
   "metadata": {},
   "source": [
    "<b>Example 3:</b><br>\n",
    "\n",
    "Input: str1 = \"LEET\", str2 = \"CODE\"<br>\n",
    "Output: \"\"<br>"
   ]
  },
  {
   "cell_type": "markdown",
   "metadata": {},
   "source": [
    "<b>Example 4:</b><br>\n",
    "\n",
    "Input: str1 = \"ABCDEF\", str2 = \"ABC\"<br>\n",
    "Output: \"\"<br>"
   ]
  },
  {
   "cell_type": "code",
   "execution_count": null,
   "metadata": {},
   "outputs": [],
   "source": [
    "def gcdOfStrings(str1, str2):\n",
    "    \n",
    "    while not(str1==\"\" or str2==\"\"):\n",
    "        if len()\n",
    "    \n",
    "gcdOfStrings(\"ABCABC\", \"ABC\")"
   ]
  }
 ],
 "metadata": {
  "kernelspec": {
   "display_name": "Python 3",
   "language": "python",
   "name": "python3"
  },
  "language_info": {
   "codemirror_mode": {
    "name": "ipython",
    "version": 3
   },
   "file_extension": ".py",
   "mimetype": "text/x-python",
   "name": "python",
   "nbconvert_exporter": "python",
   "pygments_lexer": "ipython3",
   "version": "3.7.7"
  }
 },
 "nbformat": 4,
 "nbformat_minor": 4
}
