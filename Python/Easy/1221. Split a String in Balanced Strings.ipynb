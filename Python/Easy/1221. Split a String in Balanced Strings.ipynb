{
 "cells": [
  {
   "cell_type": "markdown",
   "metadata": {},
   "source": [
    "# Problem"
   ]
  },
  {
   "cell_type": "markdown",
   "metadata": {},
   "source": [
    "https://leetcode.com/problems/split-a-string-in-balanced-strings/"
   ]
  },
  {
   "cell_type": "markdown",
   "metadata": {},
   "source": [
    "Balanced strings are those that have an equal quantity of 'L' and 'R' characters.\n",
    "\n",
    "Given a balanced string s, split it in the maximum amount of balanced strings.\n",
    "\n",
    "Return the maximum amount of split balanced strings."
   ]
  },
  {
   "cell_type": "markdown",
   "metadata": {},
   "source": [
    "Example 1:<br>\n",
    "\n",
    "Input: s = \"RLRRLLRLRL\"<br>\n",
    "Output: 4<br>\n",
    "Explanation: s can be split into \"RL\", \"RRLL\", \"RL\", \"RL\", each substring contains same number of 'L' and 'R'.<br>"
   ]
  },
  {
   "cell_type": "markdown",
   "metadata": {},
   "source": [
    "Example 2:<br>\n",
    "\n",
    "Input: s = \"RLLLLRRRLR\"<br>\n",
    "Output: 3<br>\n",
    "Explanation: s can be split into \"RL\", \"LLLRRR\", \"LR\", each substring contains same number of 'L' and 'R'.<br>"
   ]
  },
  {
   "cell_type": "markdown",
   "metadata": {},
   "source": [
    "Example 3:<br>\n",
    "\n",
    "Input: s = \"LLLLRRRR\"<br>\n",
    "Output: 1<br>\n",
    "Explanation: s can be split into \"LLLLRRRR\".<br>"
   ]
  },
  {
   "cell_type": "markdown",
   "metadata": {},
   "source": [
    "Example 4:<br>\n",
    "\n",
    "Input: s = \"RLRRRLLRLL\"<br>\n",
    "Output: 2<br>\n",
    "Explanation: s can be split into \"RL\", \"RRRLLRLL\", since each substring contains an equal number of 'L' and 'R'<br>"
   ]
  },
  {
   "cell_type": "markdown",
   "metadata": {},
   "source": [
    "# Solution1"
   ]
  },
  {
   "cell_type": "code",
   "execution_count": 9,
   "metadata": {},
   "outputs": [
    {
     "data": {
      "text/plain": [
       "4"
      ]
     },
     "execution_count": 9,
     "metadata": {},
     "output_type": "execute_result"
    }
   ],
   "source": [
    "def balancedStringSplit(s):\n",
    "    \n",
    "    if len(s)<1:\n",
    "        return -1\n",
    "    \n",
    "    r_cnt = 0\n",
    "    l_cnt = 0\n",
    "    tot_cnt = 0\n",
    "    \n",
    "    for i in range(len(s)):\n",
    "        if s[i] == 'R':\n",
    "            r_cnt += 1\n",
    "        else:\n",
    "            l_cnt += 1\n",
    "    \n",
    "        if r_cnt == l_cnt:\n",
    "            tot_cnt += 1 \n",
    "            r_cnt = 0\n",
    "            l_cnt = 0\n",
    "        \n",
    "    return tot_cnt\n",
    "\n",
    "balancedStringSplit(s= \"RLRRLLRLRL\")\n",
    "#balancedStringSplit(s= \"RLLLLRRRLR\")\n",
    "#balancedStringSplit(s= \"LLLLRRRR\")\n",
    "#balancedStringSplit(s= \"RLRRRLLRLL\")\n",
    "#balancedStringSplit(s='' )\n",
    "\n",
    "#Time complexity: O(n)\n",
    "#Space complexity: O(1)"
   ]
  },
  {
   "cell_type": "markdown",
   "metadata": {},
   "source": [
    "# Solution2"
   ]
  },
  {
   "cell_type": "code",
   "execution_count": 10,
   "metadata": {},
   "outputs": [
    {
     "data": {
      "text/plain": [
       "3"
      ]
     },
     "execution_count": 10,
     "metadata": {},
     "output_type": "execute_result"
    }
   ],
   "source": [
    "def balancedStringSplit(s):\n",
    "    res = cnt = 0         \n",
    "    for c in s:\n",
    "        cnt += 1 if c == 'L' else -1            \n",
    "        if cnt == 0:\n",
    "            res += 1\n",
    "    return res  \n",
    "balancedStringSplit(s= \"RLLLLRRRLR\")"
   ]
  },
  {
   "cell_type": "code",
   "execution_count": null,
   "metadata": {},
   "outputs": [],
   "source": []
  }
 ],
 "metadata": {
  "kernelspec": {
   "display_name": "Python 3",
   "language": "python",
   "name": "python3"
  },
  "language_info": {
   "codemirror_mode": {
    "name": "ipython",
    "version": 3
   },
   "file_extension": ".py",
   "mimetype": "text/x-python",
   "name": "python",
   "nbconvert_exporter": "python",
   "pygments_lexer": "ipython3",
   "version": "3.7.7"
  }
 },
 "nbformat": 4,
 "nbformat_minor": 4
}
