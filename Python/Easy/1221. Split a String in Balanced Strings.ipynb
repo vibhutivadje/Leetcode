{
 "cells": [
  {
   "cell_type": "markdown",
   "metadata": {},
   "source": [
    "Balanced strings are those that have an equal quantity of 'L' and 'R' characters.\n",
    "\n",
    "Given a balanced string s, split it in the maximum amount of balanced strings.\n",
    "\n",
    "Return the maximum amount of split balanced strings.\n",
    "\n"
   ]
  },
  {
   "cell_type": "markdown",
   "metadata": {},
   "source": [
    "Example 1:<br>\n",
    "\n",
    "Input: s = \"RLRRLLRLRL\"<br>\n",
    "Output: 4<br>\n",
    "Explanation: s can be split into \"RL\", \"RRLL\", \"RL\", \"RL\", each substring contains same number of 'L' and 'R'.<br>"
   ]
  },
  {
   "cell_type": "markdown",
   "metadata": {},
   "source": [
    "Example 2:<br>\n",
    "\n",
    "Input: s = \"RLLLLRRRLR\"<br>\n",
    "Output: 3<br>\n",
    "Explanation: s can be split into \"RL\", \"LLLRRR\", \"LR\", each substring contains same number of 'L' and 'R'.<br>"
   ]
  },
  {
   "cell_type": "markdown",
   "metadata": {},
   "source": [
    "Example 3:<br>\n",
    "\n",
    "Input: s = \"LLLLRRRR\"<br>\n",
    "Output: 1<br>\n",
    "Explanation: s can be split into \"LLLLRRRR\".<br>"
   ]
  },
  {
   "cell_type": "code",
   "execution_count": 3,
   "metadata": {},
   "outputs": [
    {
     "data": {
      "text/plain": [
       "1"
      ]
     },
     "execution_count": 3,
     "metadata": {},
     "output_type": "execute_result"
    }
   ],
   "source": [
    "def balancedStringSplit(s):\n",
    "    \n",
    "    r_cnt = 0\n",
    "    l_cnt = 0\n",
    "    tot_cnt = 0\n",
    "    \n",
    "    for i in range(len(s)):\n",
    "        if s[i] == 'R':\n",
    "            r_cnt += 1\n",
    "#         elif s[i] == 'L':\n",
    "        else:\n",
    "            l_cnt += 1\n",
    "    \n",
    "        if r_cnt == l_cnt:\n",
    "            tot_cnt += 1 \n",
    "            r_cnt = 0\n",
    "            l_cnt = 0\n",
    "        \n",
    "    return tot_cnt\n",
    "\n",
    "#balancedStringSplit(s= \"RLRRLLRLRL\")\n",
    "balancedStringSplit(s= \"RLLLLRRRLR\")\n",
    "#balancedStringSplit(s= \"LLLLRRRR\")"
   ]
  },
  {
   "cell_type": "code",
   "execution_count": null,
   "metadata": {},
   "outputs": [],
   "source": []
  }
 ],
 "metadata": {
  "kernelspec": {
   "display_name": "Python 3",
   "language": "python",
   "name": "python3"
  },
  "language_info": {
   "codemirror_mode": {
    "name": "ipython",
    "version": 3
   },
   "file_extension": ".py",
   "mimetype": "text/x-python",
   "name": "python",
   "nbconvert_exporter": "python",
   "pygments_lexer": "ipython3",
   "version": "3.7.7"
  }
 },
 "nbformat": 4,
 "nbformat_minor": 4
}
